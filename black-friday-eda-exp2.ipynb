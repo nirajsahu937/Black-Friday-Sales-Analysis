{
 "cells": [
  {
   "cell_type": "markdown",
   "id": "8497585b",
   "metadata": {
    "papermill": {
     "duration": 0.022292,
     "end_time": "2023-07-29T11:38:45.930437",
     "exception": false,
     "start_time": "2023-07-29T11:38:45.908145",
     "status": "completed"
    },
    "tags": []
   },
   "source": [
    "  impost os means - list the contend of directry listed in file path given  \n",
    "we will do analysis of sales customer eg (city,age,gender,stability,occupation,product)   \n",
    "motive to do prpoper analysis so that marketing team can take action accordingly"
   ]
  },
  {
   "cell_type": "code",
   "execution_count": 1,
   "id": "8837967e",
   "metadata": {
    "execution": {
     "iopub.execute_input": "2023-07-29T11:38:46.049710Z",
     "iopub.status.busy": "2023-07-29T11:38:46.049323Z",
     "iopub.status.idle": "2023-07-29T11:38:47.526237Z",
     "shell.execute_reply": "2023-07-29T11:38:47.525120Z"
    },
    "papermill": {
     "duration": 1.503255,
     "end_time": "2023-07-29T11:38:47.529008",
     "exception": false,
     "start_time": "2023-07-29T11:38:46.025753",
     "status": "completed"
    },
    "tags": []
   },
   "outputs": [
    {
     "name": "stderr",
     "output_type": "stream",
     "text": [
      "C:\\Users\\DELL\\AppData\\Local\\Temp\\ipykernel_9420\\2752214927.py:1: DeprecationWarning: \n",
      "Pyarrow will become a required dependency of pandas in the next major release of pandas (pandas 3.0),\n",
      "(to allow more performant data types, such as the Arrow string type, and better interoperability with other libraries)\n",
      "but was not found to be installed on your system.\n",
      "If this would cause problems for you,\n",
      "please provide us feedback at https://github.com/pandas-dev/pandas/issues/54466\n",
      "        \n",
      "  import pandas as pd\n"
     ]
    }
   ],
   "source": [
    "import pandas as pd \n",
    "import numpy as np\n",
    "import seaborn as sns\n",
    "import matplotlib.pyplot as plt"
   ]
  },
  {
   "cell_type": "code",
   "execution_count": 3,
   "id": "73a5c69b",
   "metadata": {
    "execution": {
     "iopub.execute_input": "2023-07-29T11:38:47.574963Z",
     "iopub.status.busy": "2023-07-29T11:38:47.574545Z",
     "iopub.status.idle": "2023-07-29T11:38:48.753724Z",
     "shell.execute_reply": "2023-07-29T11:38:48.752566Z"
    },
    "papermill": {
     "duration": 1.205112,
     "end_time": "2023-07-29T11:38:48.756261",
     "exception": false,
     "start_time": "2023-07-29T11:38:47.551149",
     "status": "completed"
    },
    "tags": []
   },
   "outputs": [],
   "source": [
    "data=pd.read_csv('train.csv')"
   ]
  },
  {
   "cell_type": "code",
   "execution_count": 4,
   "id": "78caf372",
   "metadata": {
    "execution": {
     "iopub.execute_input": "2023-07-29T11:38:48.802585Z",
     "iopub.status.busy": "2023-07-29T11:38:48.802166Z",
     "iopub.status.idle": "2023-07-29T11:38:48.829732Z",
     "shell.execute_reply": "2023-07-29T11:38:48.828536Z"
    },
    "papermill": {
     "duration": 0.053354,
     "end_time": "2023-07-29T11:38:48.831950",
     "exception": false,
     "start_time": "2023-07-29T11:38:48.778596",
     "status": "completed"
    },
    "tags": []
   },
   "outputs": [
    {
     "data": {
      "text/html": [
       "<div>\n",
       "<style scoped>\n",
       "    .dataframe tbody tr th:only-of-type {\n",
       "        vertical-align: middle;\n",
       "    }\n",
       "\n",
       "    .dataframe tbody tr th {\n",
       "        vertical-align: top;\n",
       "    }\n",
       "\n",
       "    .dataframe thead th {\n",
       "        text-align: right;\n",
       "    }\n",
       "</style>\n",
       "<table border=\"1\" class=\"dataframe\">\n",
       "  <thead>\n",
       "    <tr style=\"text-align: right;\">\n",
       "      <th></th>\n",
       "      <th>User_ID</th>\n",
       "      <th>Product_ID</th>\n",
       "      <th>Gender</th>\n",
       "      <th>Age</th>\n",
       "      <th>Occupation</th>\n",
       "      <th>City_Category</th>\n",
       "      <th>Stay_In_Current_City_Years</th>\n",
       "      <th>Marital_Status</th>\n",
       "      <th>Product_Category_1</th>\n",
       "      <th>Product_Category_2</th>\n",
       "      <th>Product_Category_3</th>\n",
       "      <th>Purchase</th>\n",
       "    </tr>\n",
       "  </thead>\n",
       "  <tbody>\n",
       "    <tr>\n",
       "      <th>0</th>\n",
       "      <td>1000001</td>\n",
       "      <td>P00069042</td>\n",
       "      <td>F</td>\n",
       "      <td>0-17</td>\n",
       "      <td>10</td>\n",
       "      <td>A</td>\n",
       "      <td>2</td>\n",
       "      <td>0</td>\n",
       "      <td>3</td>\n",
       "      <td>NaN</td>\n",
       "      <td>NaN</td>\n",
       "      <td>8370</td>\n",
       "    </tr>\n",
       "    <tr>\n",
       "      <th>1</th>\n",
       "      <td>1000001</td>\n",
       "      <td>P00248942</td>\n",
       "      <td>F</td>\n",
       "      <td>0-17</td>\n",
       "      <td>10</td>\n",
       "      <td>A</td>\n",
       "      <td>2</td>\n",
       "      <td>0</td>\n",
       "      <td>1</td>\n",
       "      <td>6.0</td>\n",
       "      <td>14.0</td>\n",
       "      <td>15200</td>\n",
       "    </tr>\n",
       "    <tr>\n",
       "      <th>2</th>\n",
       "      <td>1000001</td>\n",
       "      <td>P00087842</td>\n",
       "      <td>F</td>\n",
       "      <td>0-17</td>\n",
       "      <td>10</td>\n",
       "      <td>A</td>\n",
       "      <td>2</td>\n",
       "      <td>0</td>\n",
       "      <td>12</td>\n",
       "      <td>NaN</td>\n",
       "      <td>NaN</td>\n",
       "      <td>1422</td>\n",
       "    </tr>\n",
       "    <tr>\n",
       "      <th>3</th>\n",
       "      <td>1000001</td>\n",
       "      <td>P00085442</td>\n",
       "      <td>F</td>\n",
       "      <td>0-17</td>\n",
       "      <td>10</td>\n",
       "      <td>A</td>\n",
       "      <td>2</td>\n",
       "      <td>0</td>\n",
       "      <td>12</td>\n",
       "      <td>14.0</td>\n",
       "      <td>NaN</td>\n",
       "      <td>1057</td>\n",
       "    </tr>\n",
       "  </tbody>\n",
       "</table>\n",
       "</div>"
      ],
      "text/plain": [
       "   User_ID Product_ID Gender   Age  Occupation City_Category  \\\n",
       "0  1000001  P00069042      F  0-17          10             A   \n",
       "1  1000001  P00248942      F  0-17          10             A   \n",
       "2  1000001  P00087842      F  0-17          10             A   \n",
       "3  1000001  P00085442      F  0-17          10             A   \n",
       "\n",
       "  Stay_In_Current_City_Years  Marital_Status  Product_Category_1  \\\n",
       "0                          2               0                   3   \n",
       "1                          2               0                   1   \n",
       "2                          2               0                  12   \n",
       "3                          2               0                  12   \n",
       "\n",
       "   Product_Category_2  Product_Category_3  Purchase  \n",
       "0                 NaN                 NaN      8370  \n",
       "1                 6.0                14.0     15200  \n",
       "2                 NaN                 NaN      1422  \n",
       "3                14.0                 NaN      1057  "
      ]
     },
     "execution_count": 4,
     "metadata": {},
     "output_type": "execute_result"
    }
   ],
   "source": [
    "data.head(4)"
   ]
  },
  {
   "cell_type": "markdown",
   "id": "0d94fa5d",
   "metadata": {
    "papermill": {
     "duration": 0.022506,
     "end_time": "2023-07-29T11:38:48.877559",
     "exception": false,
     "start_time": "2023-07-29T11:38:48.855053",
     "status": "completed"
    },
    "tags": []
   },
   "source": [
    "0=unmarried  \n",
    "1=merried"
   ]
  },
  {
   "cell_type": "code",
   "execution_count": 5,
   "id": "07b74d96",
   "metadata": {
    "execution": {
     "iopub.execute_input": "2023-07-29T11:38:48.925027Z",
     "iopub.status.busy": "2023-07-29T11:38:48.923999Z",
     "iopub.status.idle": "2023-07-29T11:38:48.944629Z",
     "shell.execute_reply": "2023-07-29T11:38:48.943547Z"
    },
    "papermill": {
     "duration": 0.046775,
     "end_time": "2023-07-29T11:38:48.946939",
     "exception": false,
     "start_time": "2023-07-29T11:38:48.900164",
     "status": "completed"
    },
    "tags": []
   },
   "outputs": [
    {
     "data": {
      "text/plain": [
       "<bound method DataFrame.info of         User_ID Product_ID Gender    Age  Occupation City_Category  \\\n",
       "0       1000001  P00069042      F   0-17          10             A   \n",
       "1       1000001  P00248942      F   0-17          10             A   \n",
       "2       1000001  P00087842      F   0-17          10             A   \n",
       "3       1000001  P00085442      F   0-17          10             A   \n",
       "4       1000002  P00285442      M    55+          16             C   \n",
       "...         ...        ...    ...    ...         ...           ...   \n",
       "550063  1006033  P00372445      M  51-55          13             B   \n",
       "550064  1006035  P00375436      F  26-35           1             C   \n",
       "550065  1006036  P00375436      F  26-35          15             B   \n",
       "550066  1006038  P00375436      F    55+           1             C   \n",
       "550067  1006039  P00371644      F  46-50           0             B   \n",
       "\n",
       "       Stay_In_Current_City_Years  Marital_Status  Product_Category_1  \\\n",
       "0                               2               0                   3   \n",
       "1                               2               0                   1   \n",
       "2                               2               0                  12   \n",
       "3                               2               0                  12   \n",
       "4                              4+               0                   8   \n",
       "...                           ...             ...                 ...   \n",
       "550063                          1               1                  20   \n",
       "550064                          3               0                  20   \n",
       "550065                         4+               1                  20   \n",
       "550066                          2               0                  20   \n",
       "550067                         4+               1                  20   \n",
       "\n",
       "        Product_Category_2  Product_Category_3  Purchase  \n",
       "0                      NaN                 NaN      8370  \n",
       "1                      6.0                14.0     15200  \n",
       "2                      NaN                 NaN      1422  \n",
       "3                     14.0                 NaN      1057  \n",
       "4                      NaN                 NaN      7969  \n",
       "...                    ...                 ...       ...  \n",
       "550063                 NaN                 NaN       368  \n",
       "550064                 NaN                 NaN       371  \n",
       "550065                 NaN                 NaN       137  \n",
       "550066                 NaN                 NaN       365  \n",
       "550067                 NaN                 NaN       490  \n",
       "\n",
       "[550068 rows x 12 columns]>"
      ]
     },
     "execution_count": 5,
     "metadata": {},
     "output_type": "execute_result"
    }
   ],
   "source": [
    "#give info about data set\n",
    "data.info"
   ]
  },
  {
   "cell_type": "code",
   "execution_count": 6,
   "id": "d6622c70",
   "metadata": {
    "execution": {
     "iopub.execute_input": "2023-07-29T11:38:48.995123Z",
     "iopub.status.busy": "2023-07-29T11:38:48.994346Z",
     "iopub.status.idle": "2023-07-29T11:38:49.005358Z",
     "shell.execute_reply": "2023-07-29T11:38:49.004531Z"
    },
    "papermill": {
     "duration": 0.037578,
     "end_time": "2023-07-29T11:38:49.007527",
     "exception": false,
     "start_time": "2023-07-29T11:38:48.969949",
     "status": "completed"
    },
    "tags": []
   },
   "outputs": [
    {
     "data": {
      "text/plain": [
       "int64      5\n",
       "object     5\n",
       "float64    2\n",
       "dtype: int64"
      ]
     },
     "execution_count": 6,
     "metadata": {},
     "output_type": "execute_result"
    }
   ],
   "source": [
    "data.dtypes.value_counts()\n",
    "#this will show the value count of datatype"
   ]
  },
  {
   "cell_type": "code",
   "execution_count": 7,
   "id": "cd6947f1",
   "metadata": {
    "execution": {
     "iopub.execute_input": "2023-07-29T11:38:49.055556Z",
     "iopub.status.busy": "2023-07-29T11:38:49.054856Z",
     "iopub.status.idle": "2023-07-29T11:38:49.060501Z",
     "shell.execute_reply": "2023-07-29T11:38:49.059737Z"
    },
    "papermill": {
     "duration": 0.032004,
     "end_time": "2023-07-29T11:38:49.062566",
     "exception": false,
     "start_time": "2023-07-29T11:38:49.030562",
     "status": "completed"
    },
    "tags": []
   },
   "outputs": [
    {
     "data": {
      "text/plain": [
       "(550068, 12)"
      ]
     },
     "execution_count": 7,
     "metadata": {},
     "output_type": "execute_result"
    }
   ],
   "source": [
    "data.shape\n",
    "#this output means it has 550068 rows and 12 columns"
   ]
  },
  {
   "cell_type": "code",
   "execution_count": 8,
   "id": "58ff37ac",
   "metadata": {
    "execution": {
     "iopub.execute_input": "2023-07-29T11:38:49.111519Z",
     "iopub.status.busy": "2023-07-29T11:38:49.109597Z",
     "iopub.status.idle": "2023-07-29T11:38:49.117911Z",
     "shell.execute_reply": "2023-07-29T11:38:49.116798Z"
    },
    "papermill": {
     "duration": 0.034658,
     "end_time": "2023-07-29T11:38:49.120215",
     "exception": false,
     "start_time": "2023-07-29T11:38:49.085557",
     "status": "completed"
    },
    "tags": []
   },
   "outputs": [
    {
     "data": {
      "text/plain": [
       "Index(['User_ID', 'Product_ID', 'Gender', 'Age', 'Occupation', 'City_Category',\n",
       "       'Stay_In_Current_City_Years', 'Marital_Status', 'Product_Category_1',\n",
       "       'Product_Category_2', 'Product_Category_3', 'Purchase'],\n",
       "      dtype='object')"
      ]
     },
     "execution_count": 8,
     "metadata": {},
     "output_type": "execute_result"
    }
   ],
   "source": [
    "data.columns\n",
    "#this output will show name of columns\n"
   ]
  },
  {
   "cell_type": "code",
   "execution_count": 9,
   "id": "3d9bd865",
   "metadata": {
    "execution": {
     "iopub.execute_input": "2023-07-29T11:38:49.169575Z",
     "iopub.status.busy": "2023-07-29T11:38:49.168630Z",
     "iopub.status.idle": "2023-07-29T11:38:49.175611Z",
     "shell.execute_reply": "2023-07-29T11:38:49.174638Z"
    },
    "papermill": {
     "duration": 0.034542,
     "end_time": "2023-07-29T11:38:49.178057",
     "exception": false,
     "start_time": "2023-07-29T11:38:49.143515",
     "status": "completed"
    },
    "tags": []
   },
   "outputs": [
    {
     "data": {
      "text/plain": [
       "RangeIndex(start=0, stop=550068, step=1)"
      ]
     },
     "execution_count": 9,
     "metadata": {},
     "output_type": "execute_result"
    }
   ],
   "source": [
    "data.index\n",
    "#this output willshow where shart from and where finish rows"
   ]
  },
  {
   "cell_type": "code",
   "execution_count": 10,
   "id": "3bb7b7b1",
   "metadata": {
    "execution": {
     "iopub.execute_input": "2023-07-29T11:38:49.227172Z",
     "iopub.status.busy": "2023-07-29T11:38:49.226750Z",
     "iopub.status.idle": "2023-07-29T11:38:50.103360Z",
     "shell.execute_reply": "2023-07-29T11:38:50.102241Z"
    },
    "papermill": {
     "duration": 0.904176,
     "end_time": "2023-07-29T11:38:50.105905",
     "exception": false,
     "start_time": "2023-07-29T11:38:49.201729",
     "status": "completed"
    },
    "tags": []
   },
   "outputs": [
    {
     "data": {
      "text/plain": [
       "User_ID                            0\n",
       "Product_ID                         0\n",
       "Gender                             0\n",
       "Age                                0\n",
       "Occupation                         0\n",
       "City_Category                      0\n",
       "Stay_In_Current_City_Years         0\n",
       "Marital_Status                     0\n",
       "Product_Category_1                 0\n",
       "Product_Category_2            173638\n",
       "Product_Category_3            383247\n",
       "Purchase                           0\n",
       "dtype: int64"
      ]
     },
     "execution_count": 10,
     "metadata": {},
     "output_type": "execute_result"
    }
   ],
   "source": [
    "data.isnull().sum()\n",
    "#this will show the number of null value in any column"
   ]
  },
  {
   "cell_type": "code",
   "execution_count": 11,
   "id": "87cfedc9",
   "metadata": {
    "execution": {
     "iopub.execute_input": "2023-07-29T11:38:50.158443Z",
     "iopub.status.busy": "2023-07-29T11:38:50.157369Z",
     "iopub.status.idle": "2023-07-29T11:39:00.815646Z",
     "shell.execute_reply": "2023-07-29T11:39:00.814457Z"
    },
    "papermill": {
     "duration": 10.686249,
     "end_time": "2023-07-29T11:39:00.818621",
     "exception": false,
     "start_time": "2023-07-29T11:38:50.132372",
     "status": "completed"
    },
    "tags": []
   },
   "outputs": [
    {
     "data": {
      "text/plain": [
       "<Axes: >"
      ]
     },
     "execution_count": 11,
     "metadata": {},
     "output_type": "execute_result"
    },
    {
     "data": {
      "image/png": "[encoded data removed]",
      "text/plain": [
       "<Figure size 640x480 with 2 Axes>"
      ]
     },
     "metadata": {},
     "output_type": "display_data"
    }
   ],
   "source": [
    "sns.heatmap(data.isnull())\n",
    "#thi output will show heatmap of all column relation\n",
    "#as u can see there is white line which show the null max white means max null\n",
    "#product_category_2 and product_category_3 has large no of null value"
   ]
  },
  {
   "cell_type": "code",
   "execution_count": 12,
   "id": "c813a021",
   "metadata": {
    "execution": {
     "iopub.execute_input": "2023-07-29T11:39:00.870964Z",
     "iopub.status.busy": "2023-07-29T11:39:00.870121Z",
     "iopub.status.idle": "2023-07-29T11:39:01.762562Z",
     "shell.execute_reply": "2023-07-29T11:39:01.761483Z"
    },
    "papermill": {
     "duration": 0.921412,
     "end_time": "2023-07-29T11:39:01.765016",
     "exception": false,
     "start_time": "2023-07-29T11:39:00.843604",
     "status": "completed"
    },
    "tags": []
   },
   "outputs": [
    {
     "data": {
      "text/plain": [
       "556885"
      ]
     },
     "execution_count": 12,
     "metadata": {},
     "output_type": "execute_result"
    }
   ],
   "source": [
    "data.isnull().sum().sum()\n",
    "#finding total null value in data set"
   ]
  },
  {
   "cell_type": "code",
   "execution_count": 13,
   "id": "976bb171",
   "metadata": {
    "execution": {
     "iopub.execute_input": "2023-07-29T11:39:01.817351Z",
     "iopub.status.busy": "2023-07-29T11:39:01.816874Z",
     "iopub.status.idle": "2023-07-29T11:39:02.239514Z",
     "shell.execute_reply": "2023-07-29T11:39:02.238257Z"
    },
    "papermill": {
     "duration": 0.451692,
     "end_time": "2023-07-29T11:39:02.242135",
     "exception": false,
     "start_time": "2023-07-29T11:39:01.790443",
     "status": "completed"
    },
    "tags": []
   },
   "outputs": [
    {
     "data": {
      "text/plain": [
       "0"
      ]
     },
     "execution_count": 13,
     "metadata": {},
     "output_type": "execute_result"
    }
   ],
   "source": [
    "data.duplicated().sum()\n",
    "#output will show the dublictae value in data set\n",
    "#as u can the output is zero means to dublicate vale"
   ]
  },
  {
   "cell_type": "code",
   "execution_count": 14,
   "id": "6c62c827",
   "metadata": {
    "execution": {
     "iopub.execute_input": "2023-07-29T11:39:02.295135Z",
     "iopub.status.busy": "2023-07-29T11:39:02.294456Z",
     "iopub.status.idle": "2023-07-29T11:39:02.314391Z",
     "shell.execute_reply": "2023-07-29T11:39:02.313269Z"
    },
    "papermill": {
     "duration": 0.048622,
     "end_time": "2023-07-29T11:39:02.316703",
     "exception": false,
     "start_time": "2023-07-29T11:39:02.268081",
     "status": "completed"
    },
    "tags": []
   },
   "outputs": [
    {
     "data": {
      "text/html": [
       "<div>\n",
       "<style scoped>\n",
       "    .dataframe tbody tr th:only-of-type {\n",
       "        vertical-align: middle;\n",
       "    }\n",
       "\n",
       "    .dataframe tbody tr th {\n",
       "        vertical-align: top;\n",
       "    }\n",
       "\n",
       "    .dataframe thead th {\n",
       "        text-align: right;\n",
       "    }\n",
       "</style>\n",
       "<table border=\"1\" class=\"dataframe\">\n",
       "  <thead>\n",
       "    <tr style=\"text-align: right;\">\n",
       "      <th></th>\n",
       "      <th>UserID</th>\n",
       "      <th>ProductID</th>\n",
       "      <th>Gender</th>\n",
       "      <th>Age</th>\n",
       "      <th>Occupation</th>\n",
       "      <th>City_Category</th>\n",
       "      <th>city</th>\n",
       "      <th>maritial</th>\n",
       "      <th>product1</th>\n",
       "      <th>product2</th>\n",
       "      <th>product3</th>\n",
       "      <th>Purchase</th>\n",
       "    </tr>\n",
       "  </thead>\n",
       "  <tbody>\n",
       "    <tr>\n",
       "      <th>0</th>\n",
       "      <td>1000001</td>\n",
       "      <td>P00069042</td>\n",
       "      <td>F</td>\n",
       "      <td>0-17</td>\n",
       "      <td>10</td>\n",
       "      <td>A</td>\n",
       "      <td>2</td>\n",
       "      <td>0</td>\n",
       "      <td>3</td>\n",
       "      <td>NaN</td>\n",
       "      <td>NaN</td>\n",
       "      <td>8370</td>\n",
       "    </tr>\n",
       "    <tr>\n",
       "      <th>1</th>\n",
       "      <td>1000001</td>\n",
       "      <td>P00248942</td>\n",
       "      <td>F</td>\n",
       "      <td>0-17</td>\n",
       "      <td>10</td>\n",
       "      <td>A</td>\n",
       "      <td>2</td>\n",
       "      <td>0</td>\n",
       "      <td>1</td>\n",
       "      <td>6.0</td>\n",
       "      <td>14.0</td>\n",
       "      <td>15200</td>\n",
       "    </tr>\n",
       "    <tr>\n",
       "      <th>2</th>\n",
       "      <td>1000001</td>\n",
       "      <td>P00087842</td>\n",
       "      <td>F</td>\n",
       "      <td>0-17</td>\n",
       "      <td>10</td>\n",
       "      <td>A</td>\n",
       "      <td>2</td>\n",
       "      <td>0</td>\n",
       "      <td>12</td>\n",
       "      <td>NaN</td>\n",
       "      <td>NaN</td>\n",
       "      <td>1422</td>\n",
       "    </tr>\n",
       "    <tr>\n",
       "      <th>3</th>\n",
       "      <td>1000001</td>\n",
       "      <td>P00085442</td>\n",
       "      <td>F</td>\n",
       "      <td>0-17</td>\n",
       "      <td>10</td>\n",
       "      <td>A</td>\n",
       "      <td>2</td>\n",
       "      <td>0</td>\n",
       "      <td>12</td>\n",
       "      <td>14.0</td>\n",
       "      <td>NaN</td>\n",
       "      <td>1057</td>\n",
       "    </tr>\n",
       "    <tr>\n",
       "      <th>4</th>\n",
       "      <td>1000002</td>\n",
       "      <td>P00285442</td>\n",
       "      <td>M</td>\n",
       "      <td>55+</td>\n",
       "      <td>16</td>\n",
       "      <td>C</td>\n",
       "      <td>4+</td>\n",
       "      <td>0</td>\n",
       "      <td>8</td>\n",
       "      <td>NaN</td>\n",
       "      <td>NaN</td>\n",
       "      <td>7969</td>\n",
       "    </tr>\n",
       "  </tbody>\n",
       "</table>\n",
       "</div>"
      ],
      "text/plain": [
       "    UserID  ProductID Gender   Age  Occupation City_Category city  maritial  \\\n",
       "0  1000001  P00069042      F  0-17          10             A    2         0   \n",
       "1  1000001  P00248942      F  0-17          10             A    2         0   \n",
       "2  1000001  P00087842      F  0-17          10             A    2         0   \n",
       "3  1000001  P00085442      F  0-17          10             A    2         0   \n",
       "4  1000002  P00285442      M   55+          16             C   4+         0   \n",
       "\n",
       "   product1  product2  product3  Purchase  \n",
       "0         3       NaN       NaN      8370  \n",
       "1         1       6.0      14.0     15200  \n",
       "2        12       NaN       NaN      1422  \n",
       "3        12      14.0       NaN      1057  \n",
       "4         8       NaN       NaN      7969  "
      ]
     },
     "execution_count": 14,
     "metadata": {},
     "output_type": "execute_result"
    }
   ],
   "source": [
    "#RENAMING THE COLUMNS\n",
    "data.rename(columns={'User_ID':'UserID','Product_ID':'ProductID','Stay_In_Current_City_Years':'city', 'Marital_Status':'maritial', 'Product_Category_1':'product1','Product_Category_2':'product2', 'Product_Category_3':'product3',},inplace=True)\n",
    "data.head()\n",
    "#as u can see we rename the coulumn \n",
    "#if we use implace true it will not do a copy\n",
    "#if we use false then it will do a cody of dataset and then change"
   ]
  },
  {
   "cell_type": "markdown",
   "id": "8c72be1c",
   "metadata": {
    "papermill": {
     "duration": 0.02538,
     "end_time": "2023-07-29T11:39:02.367865",
     "exception": false,
     "start_time": "2023-07-29T11:39:02.342485",
     "status": "completed"
    },
    "tags": []
   },
   "source": [
    "1.To delete purmanently we use inplace=True  \n",
    "\n",
    "2.and for just experiment purupose we use inplaec=False (means only for that current cell no permanent delete)   \n",
    "\n",
    "3.or otherwise bcz it by default false   \n",
    "\n",
    "4. or else we can assign new variable (mean it will create new copy of modify data)"
   ]
  },
  {
   "cell_type": "code",
   "execution_count": 15,
   "id": "b3089c72",
   "metadata": {
    "execution": {
     "iopub.execute_input": "2023-07-29T11:39:02.420844Z",
     "iopub.status.busy": "2023-07-29T11:39:02.420453Z",
     "iopub.status.idle": "2023-07-29T11:39:02.450543Z",
     "shell.execute_reply": "2023-07-29T11:39:02.449559Z"
    },
    "papermill": {
     "duration": 0.05974,
     "end_time": "2023-07-29T11:39:02.453220",
     "exception": false,
     "start_time": "2023-07-29T11:39:02.393480",
     "status": "completed"
    },
    "tags": []
   },
   "outputs": [],
   "source": [
    "#droping out unnecssary columns \n",
    "data.drop(['ProductID'],inplace=True,axis='columns')\n"
   ]
  },
  {
   "cell_type": "code",
   "execution_count": 16,
   "id": "06e19332",
   "metadata": {
    "execution": {
     "iopub.execute_input": "2023-07-29T11:39:02.506567Z",
     "iopub.status.busy": "2023-07-29T11:39:02.506134Z",
     "iopub.status.idle": "2023-07-29T11:39:02.522031Z",
     "shell.execute_reply": "2023-07-29T11:39:02.521239Z"
    },
    "papermill": {
     "duration": 0.044785,
     "end_time": "2023-07-29T11:39:02.524137",
     "exception": false,
     "start_time": "2023-07-29T11:39:02.479352",
     "status": "completed"
    },
    "tags": []
   },
   "outputs": [
    {
     "data": {
      "text/html": [
       "<div>\n",
       "<style scoped>\n",
       "    .dataframe tbody tr th:only-of-type {\n",
       "        vertical-align: middle;\n",
       "    }\n",
       "\n",
       "    .dataframe tbody tr th {\n",
       "        vertical-align: top;\n",
       "    }\n",
       "\n",
       "    .dataframe thead th {\n",
       "        text-align: right;\n",
       "    }\n",
       "</style>\n",
       "<table border=\"1\" class=\"dataframe\">\n",
       "  <thead>\n",
       "    <tr style=\"text-align: right;\">\n",
       "      <th></th>\n",
       "      <th>UserID</th>\n",
       "      <th>Gender</th>\n",
       "      <th>Age</th>\n",
       "      <th>Occupation</th>\n",
       "      <th>City_Category</th>\n",
       "      <th>city</th>\n",
       "      <th>maritial</th>\n",
       "      <th>product1</th>\n",
       "      <th>product2</th>\n",
       "      <th>product3</th>\n",
       "      <th>Purchase</th>\n",
       "    </tr>\n",
       "  </thead>\n",
       "  <tbody>\n",
       "    <tr>\n",
       "      <th>0</th>\n",
       "      <td>1000001</td>\n",
       "      <td>F</td>\n",
       "      <td>0-17</td>\n",
       "      <td>10</td>\n",
       "      <td>A</td>\n",
       "      <td>2</td>\n",
       "      <td>0</td>\n",
       "      <td>3</td>\n",
       "      <td>NaN</td>\n",
       "      <td>NaN</td>\n",
       "      <td>8370</td>\n",
       "    </tr>\n",
       "    <tr>\n",
       "      <th>1</th>\n",
       "      <td>1000001</td>\n",
       "      <td>F</td>\n",
       "      <td>0-17</td>\n",
       "      <td>10</td>\n",
       "      <td>A</td>\n",
       "      <td>2</td>\n",
       "      <td>0</td>\n",
       "      <td>1</td>\n",
       "      <td>6.0</td>\n",
       "      <td>14.0</td>\n",
       "      <td>15200</td>\n",
       "    </tr>\n",
       "    <tr>\n",
       "      <th>2</th>\n",
       "      <td>1000001</td>\n",
       "      <td>F</td>\n",
       "      <td>0-17</td>\n",
       "      <td>10</td>\n",
       "      <td>A</td>\n",
       "      <td>2</td>\n",
       "      <td>0</td>\n",
       "      <td>12</td>\n",
       "      <td>NaN</td>\n",
       "      <td>NaN</td>\n",
       "      <td>1422</td>\n",
       "    </tr>\n",
       "    <tr>\n",
       "      <th>3</th>\n",
       "      <td>1000001</td>\n",
       "      <td>F</td>\n",
       "      <td>0-17</td>\n",
       "      <td>10</td>\n",
       "      <td>A</td>\n",
       "      <td>2</td>\n",
       "      <td>0</td>\n",
       "      <td>12</td>\n",
       "      <td>14.0</td>\n",
       "      <td>NaN</td>\n",
       "      <td>1057</td>\n",
       "    </tr>\n",
       "    <tr>\n",
       "      <th>4</th>\n",
       "      <td>1000002</td>\n",
       "      <td>M</td>\n",
       "      <td>55+</td>\n",
       "      <td>16</td>\n",
       "      <td>C</td>\n",
       "      <td>4+</td>\n",
       "      <td>0</td>\n",
       "      <td>8</td>\n",
       "      <td>NaN</td>\n",
       "      <td>NaN</td>\n",
       "      <td>7969</td>\n",
       "    </tr>\n",
       "  </tbody>\n",
       "</table>\n",
       "</div>"
      ],
      "text/plain": [
       "    UserID Gender   Age  Occupation City_Category city  maritial  product1  \\\n",
       "0  1000001      F  0-17          10             A    2         0         3   \n",
       "1  1000001      F  0-17          10             A    2         0         1   \n",
       "2  1000001      F  0-17          10             A    2         0        12   \n",
       "3  1000001      F  0-17          10             A    2         0        12   \n",
       "4  1000002      M   55+          16             C   4+         0         8   \n",
       "\n",
       "   product2  product3  Purchase  \n",
       "0       NaN       NaN      8370  \n",
       "1       6.0      14.0     15200  \n",
       "2       NaN       NaN      1422  \n",
       "3      14.0       NaN      1057  \n",
       "4       NaN       NaN      7969  "
      ]
     },
     "execution_count": 16,
     "metadata": {},
     "output_type": "execute_result"
    }
   ],
   "source": [
    "data.head()\n",
    "#as u can see productid column is deleted"
   ]
  },
  {
   "cell_type": "markdown",
   "id": "8ac118e9",
   "metadata": {
    "papermill": {
     "duration": 0.025127,
     "end_time": "2023-07-29T11:39:02.574902",
     "exception": false,
     "start_time": "2023-07-29T11:39:02.549775",
     "status": "completed"
    },
    "tags": []
   },
   "source": [
    "# DATA CLEANING"
   ]
  },
  {
   "cell_type": "code",
   "execution_count": 17,
   "id": "5502434f",
   "metadata": {
    "execution": {
     "iopub.execute_input": "2023-07-29T11:39:02.628382Z",
     "iopub.status.busy": "2023-07-29T11:39:02.627926Z",
     "iopub.status.idle": "2023-07-29T11:39:02.681058Z",
     "shell.execute_reply": "2023-07-29T11:39:02.679988Z"
    },
    "papermill": {
     "duration": 0.083051,
     "end_time": "2023-07-29T11:39:02.683499",
     "exception": false,
     "start_time": "2023-07-29T11:39:02.600448",
     "status": "completed"
    },
    "tags": []
   },
   "outputs": [
    {
     "data": {
      "text/plain": [
       "array(['2', '4+', '3', '1', '0'], dtype=object)"
      ]
     },
     "execution_count": 17,
     "metadata": {},
     "output_type": "execute_result"
    }
   ],
   "source": [
    "#CLEANING INDIVIDUAL COLUMNS\n",
    "data['city'].unique()\n",
    "#this will show all unique value in column of city"
   ]
  },
  {
   "cell_type": "code",
   "execution_count": 18,
   "id": "3c6928ff",
   "metadata": {
    "execution": {
     "iopub.execute_input": "2023-07-29T11:39:02.736606Z",
     "iopub.status.busy": "2023-07-29T11:39:02.736232Z",
     "iopub.status.idle": "2023-07-29T11:39:03.344359Z",
     "shell.execute_reply": "2023-07-29T11:39:03.343211Z"
    },
    "papermill": {
     "duration": 0.638168,
     "end_time": "2023-07-29T11:39:03.347490",
     "exception": false,
     "start_time": "2023-07-29T11:39:02.709322",
     "status": "completed"
    },
    "tags": []
   },
   "outputs": [],
   "source": [
    "def cities(value):\n",
    "    if isinstance(value, int):  # Check if the value is already an integer\n",
    "        return value\n",
    "    elif '+' in value:\n",
    "        value = value.replace('+', '')\n",
    "    return int(value)\n",
    "\n",
    "data['city'] = data['city'].apply(cities)\n",
    "\n",
    "# try:\n",
    "    # Your code that may raise an error\n",
    "# except Exception as e:\n",
    "    \n",
    "#     pass  # You can choose to do something else here or simply use 'pass' to ignore the error silently\n"
   ]
  },
  {
   "cell_type": "code",
   "execution_count": 19,
   "id": "d608f9bf",
   "metadata": {
    "execution": {
     "iopub.execute_input": "2023-07-29T11:39:03.418430Z",
     "iopub.status.busy": "2023-07-29T11:39:03.417992Z",
     "iopub.status.idle": "2023-07-29T11:39:03.427935Z",
     "shell.execute_reply": "2023-07-29T11:39:03.426951Z"
    },
    "papermill": {
     "duration": 0.051667,
     "end_time": "2023-07-29T11:39:03.430600",
     "exception": false,
     "start_time": "2023-07-29T11:39:03.378933",
     "status": "completed"
    },
    "tags": []
   },
   "outputs": [
    {
     "data": {
      "text/plain": [
       "array([2, 4, 3, 1, 0])"
      ]
     },
     "execution_count": 19,
     "metadata": {},
     "output_type": "execute_result"
    }
   ],
   "source": [
    "data['city'].unique()"
   ]
  },
  {
   "cell_type": "code",
   "execution_count": 20,
   "id": "9f2f3c6b",
   "metadata": {
    "execution": {
     "iopub.execute_input": "2023-07-29T11:39:03.489982Z",
     "iopub.status.busy": "2023-07-29T11:39:03.489260Z",
     "iopub.status.idle": "2023-07-29T11:39:04.034754Z",
     "shell.execute_reply": "2023-07-29T11:39:04.033331Z"
    },
    "papermill": {
     "duration": 0.575508,
     "end_time": "2023-07-29T11:39:04.037147",
     "exception": false,
     "start_time": "2023-07-29T11:39:03.461639",
     "status": "completed"
    },
    "tags": []
   },
   "outputs": [
    {
     "name": "stdout",
     "output_type": "stream",
     "text": [
      "<class 'pandas.core.frame.DataFrame'>\n",
      "RangeIndex: 550068 entries, 0 to 550067\n",
      "Data columns (total 11 columns):\n",
      " #   Column         Non-Null Count   Dtype  \n",
      "---  ------         --------------   -----  \n",
      " 0   UserID         550068 non-null  int64  \n",
      " 1   Gender         550068 non-null  object \n",
      " 2   Age            550068 non-null  object \n",
      " 3   Occupation     550068 non-null  int64  \n",
      " 4   City_Category  550068 non-null  object \n",
      " 5   city           550068 non-null  int64  \n",
      " 6   maritial       550068 non-null  int64  \n",
      " 7   product1       550068 non-null  int64  \n",
      " 8   product2       376430 non-null  float64\n",
      " 9   product3       166821 non-null  float64\n",
      " 10  Purchase       550068 non-null  int64  \n",
      "dtypes: float64(2), int64(6), object(3)\n",
      "memory usage: 46.2+ MB\n"
     ]
    }
   ],
   "source": [
    "data.info()"
   ]
  },
  {
   "cell_type": "code",
   "execution_count": 21,
   "id": "63c5c24b",
   "metadata": {
    "execution": {
     "iopub.execute_input": "2023-07-29T11:39:04.091216Z",
     "iopub.status.busy": "2023-07-29T11:39:04.090764Z",
     "iopub.status.idle": "2023-07-29T11:39:04.102330Z",
     "shell.execute_reply": "2023-07-29T11:39:04.101199Z"
    },
    "papermill": {
     "duration": 0.041297,
     "end_time": "2023-07-29T11:39:04.104684",
     "exception": false,
     "start_time": "2023-07-29T11:39:04.063387",
     "status": "completed"
    },
    "tags": []
   },
   "outputs": [
    {
     "data": {
      "text/plain": [
       "array([1000001, 1000002, 1000003, ..., 1004113, 1005391, 1001529])"
      ]
     },
     "execution_count": 21,
     "metadata": {},
     "output_type": "execute_result"
    }
   ],
   "source": [
    "data['UserID'].unique()"
   ]
  },
  {
   "cell_type": "code",
   "execution_count": 22,
   "id": "1efa9fda",
   "metadata": {
    "execution": {
     "iopub.execute_input": "2023-07-29T11:39:04.159686Z",
     "iopub.status.busy": "2023-07-29T11:39:04.158800Z",
     "iopub.status.idle": "2023-07-29T11:39:04.165494Z",
     "shell.execute_reply": "2023-07-29T11:39:04.164657Z"
    },
    "papermill": {
     "duration": 0.036638,
     "end_time": "2023-07-29T11:39:04.167540",
     "exception": false,
     "start_time": "2023-07-29T11:39:04.130902",
     "status": "completed"
    },
    "tags": []
   },
   "outputs": [
    {
     "data": {
      "text/plain": [
       "dtype('int64')"
      ]
     },
     "execution_count": 22,
     "metadata": {},
     "output_type": "execute_result"
    }
   ],
   "source": [
    "data['UserID'].dtype"
   ]
  },
  {
   "cell_type": "code",
   "execution_count": 23,
   "id": "8b6ec40b",
   "metadata": {
    "execution": {
     "iopub.execute_input": "2023-07-29T11:39:04.222745Z",
     "iopub.status.busy": "2023-07-29T11:39:04.222271Z",
     "iopub.status.idle": "2023-07-29T11:39:04.276235Z",
     "shell.execute_reply": "2023-07-29T11:39:04.274988Z"
    },
    "papermill": {
     "duration": 0.0851,
     "end_time": "2023-07-29T11:39:04.279031",
     "exception": false,
     "start_time": "2023-07-29T11:39:04.193931",
     "status": "completed"
    },
    "tags": []
   },
   "outputs": [
    {
     "data": {
      "text/plain": [
       "array(['F', 'M'], dtype=object)"
      ]
     },
     "execution_count": 23,
     "metadata": {},
     "output_type": "execute_result"
    }
   ],
   "source": [
    "data['Gender'].unique()"
   ]
  },
  {
   "cell_type": "code",
   "execution_count": 24,
   "id": "86c11117",
   "metadata": {
    "execution": {
     "iopub.execute_input": "2023-07-29T11:39:04.337970Z",
     "iopub.status.busy": "2023-07-29T11:39:04.337279Z",
     "iopub.status.idle": "2023-07-29T11:39:04.354415Z",
     "shell.execute_reply": "2023-07-29T11:39:04.353281Z"
    },
    "papermill": {
     "duration": 0.048862,
     "end_time": "2023-07-29T11:39:04.356714",
     "exception": false,
     "start_time": "2023-07-29T11:39:04.307852",
     "status": "completed"
    },
    "tags": []
   },
   "outputs": [
    {
     "data": {
      "text/html": [
       "<div>\n",
       "<style scoped>\n",
       "    .dataframe tbody tr th:only-of-type {\n",
       "        vertical-align: middle;\n",
       "    }\n",
       "\n",
       "    .dataframe tbody tr th {\n",
       "        vertical-align: top;\n",
       "    }\n",
       "\n",
       "    .dataframe thead th {\n",
       "        text-align: right;\n",
       "    }\n",
       "</style>\n",
       "<table border=\"1\" class=\"dataframe\">\n",
       "  <thead>\n",
       "    <tr style=\"text-align: right;\">\n",
       "      <th></th>\n",
       "      <th>UserID</th>\n",
       "      <th>Gender</th>\n",
       "      <th>Age</th>\n",
       "      <th>Occupation</th>\n",
       "      <th>City_Category</th>\n",
       "      <th>city</th>\n",
       "      <th>maritial</th>\n",
       "      <th>product1</th>\n",
       "      <th>product2</th>\n",
       "      <th>product3</th>\n",
       "      <th>Purchase</th>\n",
       "    </tr>\n",
       "  </thead>\n",
       "  <tbody>\n",
       "    <tr>\n",
       "      <th>0</th>\n",
       "      <td>1000001</td>\n",
       "      <td>F</td>\n",
       "      <td>0-17</td>\n",
       "      <td>10</td>\n",
       "      <td>A</td>\n",
       "      <td>2</td>\n",
       "      <td>0</td>\n",
       "      <td>3</td>\n",
       "      <td>NaN</td>\n",
       "      <td>NaN</td>\n",
       "      <td>8370</td>\n",
       "    </tr>\n",
       "    <tr>\n",
       "      <th>1</th>\n",
       "      <td>1000001</td>\n",
       "      <td>F</td>\n",
       "      <td>0-17</td>\n",
       "      <td>10</td>\n",
       "      <td>A</td>\n",
       "      <td>2</td>\n",
       "      <td>0</td>\n",
       "      <td>1</td>\n",
       "      <td>6.0</td>\n",
       "      <td>14.0</td>\n",
       "      <td>15200</td>\n",
       "    </tr>\n",
       "    <tr>\n",
       "      <th>2</th>\n",
       "      <td>1000001</td>\n",
       "      <td>F</td>\n",
       "      <td>0-17</td>\n",
       "      <td>10</td>\n",
       "      <td>A</td>\n",
       "      <td>2</td>\n",
       "      <td>0</td>\n",
       "      <td>12</td>\n",
       "      <td>NaN</td>\n",
       "      <td>NaN</td>\n",
       "      <td>1422</td>\n",
       "    </tr>\n",
       "    <tr>\n",
       "      <th>3</th>\n",
       "      <td>1000001</td>\n",
       "      <td>F</td>\n",
       "      <td>0-17</td>\n",
       "      <td>10</td>\n",
       "      <td>A</td>\n",
       "      <td>2</td>\n",
       "      <td>0</td>\n",
       "      <td>12</td>\n",
       "      <td>14.0</td>\n",
       "      <td>NaN</td>\n",
       "      <td>1057</td>\n",
       "    </tr>\n",
       "    <tr>\n",
       "      <th>4</th>\n",
       "      <td>1000002</td>\n",
       "      <td>M</td>\n",
       "      <td>55+</td>\n",
       "      <td>16</td>\n",
       "      <td>C</td>\n",
       "      <td>4</td>\n",
       "      <td>0</td>\n",
       "      <td>8</td>\n",
       "      <td>NaN</td>\n",
       "      <td>NaN</td>\n",
       "      <td>7969</td>\n",
       "    </tr>\n",
       "  </tbody>\n",
       "</table>\n",
       "</div>"
      ],
      "text/plain": [
       "    UserID Gender   Age  Occupation City_Category  city  maritial  product1  \\\n",
       "0  1000001      F  0-17          10             A     2         0         3   \n",
       "1  1000001      F  0-17          10             A     2         0         1   \n",
       "2  1000001      F  0-17          10             A     2         0        12   \n",
       "3  1000001      F  0-17          10             A     2         0        12   \n",
       "4  1000002      M   55+          16             C     4         0         8   \n",
       "\n",
       "   product2  product3  Purchase  \n",
       "0       NaN       NaN      8370  \n",
       "1       6.0      14.0     15200  \n",
       "2       NaN       NaN      1422  \n",
       "3      14.0       NaN      1057  \n",
       "4       NaN       NaN      7969  "
      ]
     },
     "execution_count": 24,
     "metadata": {},
     "output_type": "execute_result"
    }
   ],
   "source": [
    "data.head()"
   ]
  },
  {
   "cell_type": "code",
   "execution_count": 25,
   "id": "eedb610a",
   "metadata": {
    "execution": {
     "iopub.execute_input": "2023-07-29T11:39:04.412242Z",
     "iopub.status.busy": "2023-07-29T11:39:04.411810Z",
     "iopub.status.idle": "2023-07-29T11:39:04.942019Z",
     "shell.execute_reply": "2023-07-29T11:39:04.940856Z"
    },
    "papermill": {
     "duration": 0.561022,
     "end_time": "2023-07-29T11:39:04.944448",
     "exception": false,
     "start_time": "2023-07-29T11:39:04.383426",
     "status": "completed"
    },
    "tags": []
   },
   "outputs": [
    {
     "name": "stdout",
     "output_type": "stream",
     "text": [
      "<class 'pandas.core.frame.DataFrame'>\n",
      "RangeIndex: 550068 entries, 0 to 550067\n",
      "Data columns (total 11 columns):\n",
      " #   Column         Non-Null Count   Dtype  \n",
      "---  ------         --------------   -----  \n",
      " 0   UserID         550068 non-null  int64  \n",
      " 1   Gender         550068 non-null  object \n",
      " 2   Age            550068 non-null  object \n",
      " 3   Occupation     550068 non-null  int64  \n",
      " 4   City_Category  550068 non-null  object \n",
      " 5   city           550068 non-null  int64  \n",
      " 6   maritial       550068 non-null  int64  \n",
      " 7   product1       550068 non-null  int64  \n",
      " 8   product2       376430 non-null  float64\n",
      " 9   product3       166821 non-null  float64\n",
      " 10  Purchase       550068 non-null  int64  \n",
      "dtypes: float64(2), int64(6), object(3)\n",
      "memory usage: 46.2+ MB\n"
     ]
    }
   ],
   "source": [
    "data.info()"
   ]
  },
  {
   "cell_type": "code",
   "execution_count": 26,
   "id": "a12dfec3",
   "metadata": {
    "execution": {
     "iopub.execute_input": "2023-07-29T11:39:05.004785Z",
     "iopub.status.busy": "2023-07-29T11:39:05.004083Z",
     "iopub.status.idle": "2023-07-29T11:39:05.425716Z",
     "shell.execute_reply": "2023-07-29T11:39:05.424534Z"
    },
    "papermill": {
     "duration": 0.455291,
     "end_time": "2023-07-29T11:39:05.428571",
     "exception": false,
     "start_time": "2023-07-29T11:39:04.973280",
     "status": "completed"
    },
    "tags": []
   },
   "outputs": [],
   "source": [
    "def ages(value): #taken age columns and value means taken varieble\n",
    "    if'0-17' in value:\n",
    "        value=value.replace('0-17','child') #for long loop use(if ,elif, else)\n",
    "        return str(value)\n",
    "    elif '26-35' in value:\n",
    "        value=value.replace('26-35','adult')\n",
    "        return str(value)\n",
    "    elif '18-25' in value:\n",
    "        value=value.replace('18-25','teenage')\n",
    "        return str(value)\n",
    "    elif '36-45'in value:\n",
    "        value=value.replace('36-45','adult')\n",
    "        return str(value)\n",
    "    elif '46-50'in value:\n",
    "        value=value.replace('46-50','adult')\n",
    "        return str(value)\n",
    "    elif '51-55'in value:\n",
    "        value=value.replace('51-55','old')\n",
    "        return str(value)\n",
    "    else:\n",
    "        value=value.replace('55+','old')\n",
    "        return str(value)\n",
    "    \n",
    "    \n",
    "data['Age']=data['Age'].apply(ages)\n"
   ]
  },
  {
   "cell_type": "code",
   "execution_count": 27,
   "id": "f498ae8a",
   "metadata": {
    "execution": {
     "iopub.execute_input": "2023-07-29T11:39:05.487333Z",
     "iopub.status.busy": "2023-07-29T11:39:05.486062Z",
     "iopub.status.idle": "2023-07-29T11:39:05.546083Z",
     "shell.execute_reply": "2023-07-29T11:39:05.544875Z"
    },
    "papermill": {
     "duration": 0.092104,
     "end_time": "2023-07-29T11:39:05.548830",
     "exception": false,
     "start_time": "2023-07-29T11:39:05.456726",
     "status": "completed"
    },
    "tags": []
   },
   "outputs": [
    {
     "data": {
      "text/plain": [
       "array(['child', 'old', 'adult', 'teenage'], dtype=object)"
      ]
     },
     "execution_count": 27,
     "metadata": {},
     "output_type": "execute_result"
    }
   ],
   "source": [
    "data['Age'].unique()"
   ]
  },
  {
   "cell_type": "code",
   "execution_count": 28,
   "id": "5855d8bf",
   "metadata": {
    "execution": {
     "iopub.execute_input": "2023-07-29T11:39:05.605165Z",
     "iopub.status.busy": "2023-07-29T11:39:05.604423Z",
     "iopub.status.idle": "2023-07-29T11:39:05.615198Z",
     "shell.execute_reply": "2023-07-29T11:39:05.614057Z"
    },
    "papermill": {
     "duration": 0.041584,
     "end_time": "2023-07-29T11:39:05.617502",
     "exception": false,
     "start_time": "2023-07-29T11:39:05.575918",
     "status": "completed"
    },
    "tags": []
   },
   "outputs": [
    {
     "data": {
      "text/plain": [
       "array([10, 16, 15,  7, 20,  9,  1, 12, 17,  0,  3,  4, 11,  8, 19,  2, 18,\n",
       "        5, 14, 13,  6])"
      ]
     },
     "execution_count": 28,
     "metadata": {},
     "output_type": "execute_result"
    }
   ],
   "source": [
    "data['Occupation'].unique()\n"
   ]
  },
  {
   "cell_type": "code",
   "execution_count": 29,
   "id": "c39689cc",
   "metadata": {
    "execution": {
     "iopub.execute_input": "2023-07-29T11:39:05.673774Z",
     "iopub.status.busy": "2023-07-29T11:39:05.673356Z",
     "iopub.status.idle": "2023-07-29T11:39:05.724561Z",
     "shell.execute_reply": "2023-07-29T11:39:05.723442Z"
    },
    "papermill": {
     "duration": 0.081879,
     "end_time": "2023-07-29T11:39:05.726880",
     "exception": false,
     "start_time": "2023-07-29T11:39:05.645001",
     "status": "completed"
    },
    "tags": []
   },
   "outputs": [
    {
     "data": {
      "text/plain": [
       "array(['A', 'C', 'B'], dtype=object)"
      ]
     },
     "execution_count": 29,
     "metadata": {},
     "output_type": "execute_result"
    }
   ],
   "source": [
    "data['City_Category'].unique()"
   ]
  },
  {
   "cell_type": "code",
   "execution_count": 30,
   "id": "cf3da740",
   "metadata": {
    "execution": {
     "iopub.execute_input": "2023-07-29T11:39:05.785022Z",
     "iopub.status.busy": "2023-07-29T11:39:05.783780Z",
     "iopub.status.idle": "2023-07-29T11:39:05.795160Z",
     "shell.execute_reply": "2023-07-29T11:39:05.794202Z"
    },
    "papermill": {
     "duration": 0.043225,
     "end_time": "2023-07-29T11:39:05.797592",
     "exception": false,
     "start_time": "2023-07-29T11:39:05.754367",
     "status": "completed"
    },
    "tags": []
   },
   "outputs": [
    {
     "data": {
      "text/plain": [
       "array([0, 1])"
      ]
     },
     "execution_count": 30,
     "metadata": {},
     "output_type": "execute_result"
    }
   ],
   "source": [
    "data['maritial'].unique()"
   ]
  },
  {
   "cell_type": "code",
   "execution_count": 31,
   "id": "f9ddf0eb",
   "metadata": {
    "execution": {
     "iopub.execute_input": "2023-07-29T11:39:05.856407Z",
     "iopub.status.busy": "2023-07-29T11:39:05.855406Z",
     "iopub.status.idle": "2023-07-29T11:39:05.933788Z",
     "shell.execute_reply": "2023-07-29T11:39:05.932505Z"
    },
    "papermill": {
     "duration": 0.110886,
     "end_time": "2023-07-29T11:39:05.936325",
     "exception": false,
     "start_time": "2023-07-29T11:39:05.825439",
     "status": "completed"
    },
    "tags": []
   },
   "outputs": [
    {
     "data": {
      "text/html": [
       "<div>\n",
       "<style scoped>\n",
       "    .dataframe tbody tr th:only-of-type {\n",
       "        vertical-align: middle;\n",
       "    }\n",
       "\n",
       "    .dataframe tbody tr th {\n",
       "        vertical-align: top;\n",
       "    }\n",
       "\n",
       "    .dataframe thead th {\n",
       "        text-align: right;\n",
       "    }\n",
       "</style>\n",
       "<table border=\"1\" class=\"dataframe\">\n",
       "  <thead>\n",
       "    <tr style=\"text-align: right;\">\n",
       "      <th></th>\n",
       "      <th>UserID</th>\n",
       "      <th>maritial</th>\n",
       "    </tr>\n",
       "  </thead>\n",
       "  <tbody>\n",
       "    <tr>\n",
       "      <th>550063</th>\n",
       "      <td>1006033</td>\n",
       "      <td>1</td>\n",
       "    </tr>\n",
       "    <tr>\n",
       "      <th>550064</th>\n",
       "      <td>1006035</td>\n",
       "      <td>0</td>\n",
       "    </tr>\n",
       "    <tr>\n",
       "      <th>550065</th>\n",
       "      <td>1006036</td>\n",
       "      <td>1</td>\n",
       "    </tr>\n",
       "    <tr>\n",
       "      <th>550066</th>\n",
       "      <td>1006038</td>\n",
       "      <td>0</td>\n",
       "    </tr>\n",
       "    <tr>\n",
       "      <th>550067</th>\n",
       "      <td>1006039</td>\n",
       "      <td>1</td>\n",
       "    </tr>\n",
       "  </tbody>\n",
       "</table>\n",
       "</div>"
      ],
      "text/plain": [
       "         UserID  maritial\n",
       "550063  1006033         1\n",
       "550064  1006035         0\n",
       "550065  1006036         1\n",
       "550066  1006038         0\n",
       "550067  1006039         1"
      ]
     },
     "execution_count": 31,
     "metadata": {},
     "output_type": "execute_result"
    }
   ],
   "source": [
    "data[['UserID','maritial']].tail()"
   ]
  },
  {
   "cell_type": "code",
   "execution_count": 32,
   "id": "55e27d50",
   "metadata": {
    "execution": {
     "iopub.execute_input": "2023-07-29T11:39:05.996715Z",
     "iopub.status.busy": "2023-07-29T11:39:05.996291Z",
     "iopub.status.idle": "2023-07-29T11:39:06.007829Z",
     "shell.execute_reply": "2023-07-29T11:39:06.006493Z"
    },
    "papermill": {
     "duration": 0.044214,
     "end_time": "2023-07-29T11:39:06.010088",
     "exception": false,
     "start_time": "2023-07-29T11:39:05.965874",
     "status": "completed"
    },
    "tags": []
   },
   "outputs": [
    {
     "data": {
      "text/plain": [
       "array([ 3,  1, 12,  8,  5,  4,  2,  6, 14, 11, 13, 15,  7, 16, 18, 10, 17,\n",
       "        9, 20, 19])"
      ]
     },
     "execution_count": 32,
     "metadata": {},
     "output_type": "execute_result"
    }
   ],
   "source": [
    "data['product1'].unique()"
   ]
  },
  {
   "cell_type": "code",
   "execution_count": 33,
   "id": "e0b4bffd",
   "metadata": {
    "execution": {
     "iopub.execute_input": "2023-07-29T11:39:06.070823Z",
     "iopub.status.busy": "2023-07-29T11:39:06.070002Z",
     "iopub.status.idle": "2023-07-29T11:39:06.089607Z",
     "shell.execute_reply": "2023-07-29T11:39:06.088434Z"
    },
    "papermill": {
     "duration": 0.053145,
     "end_time": "2023-07-29T11:39:06.091975",
     "exception": false,
     "start_time": "2023-07-29T11:39:06.038830",
     "status": "completed"
    },
    "tags": []
   },
   "outputs": [
    {
     "data": {
      "text/plain": [
       "8.0     64088\n",
       "14.0    55108\n",
       "2.0     49217\n",
       "16.0    43255\n",
       "15.0    37855\n",
       "5.0     26235\n",
       "4.0     25677\n",
       "6.0     16466\n",
       "11.0    14134\n",
       "17.0    13320\n",
       "13.0    10531\n",
       "9.0      5693\n",
       "12.0     5528\n",
       "10.0     3043\n",
       "3.0      2884\n",
       "18.0     2770\n",
       "7.0       626\n",
       "Name: product2, dtype: int64"
      ]
     },
     "execution_count": 33,
     "metadata": {},
     "output_type": "execute_result"
    }
   ],
   "source": [
    "data['product2'].value_counts()"
   ]
  },
  {
   "cell_type": "markdown",
   "id": "42210224",
   "metadata": {
    "papermill": {
     "duration": 0.027688,
     "end_time": "2023-07-29T11:39:06.147959",
     "exception": false,
     "start_time": "2023-07-29T11:39:06.120271",
     "status": "completed"
    },
    "tags": []
   },
   "source": [
    "It mens there is less value in 7"
   ]
  },
  {
   "cell_type": "code",
   "execution_count": 34,
   "id": "f0a1ae19",
   "metadata": {
    "execution": {
     "iopub.execute_input": "2023-07-29T11:39:06.207591Z",
     "iopub.status.busy": "2023-07-29T11:39:06.207092Z",
     "iopub.status.idle": "2023-07-29T11:39:06.222808Z",
     "shell.execute_reply": "2023-07-29T11:39:06.221726Z"
    },
    "papermill": {
     "duration": 0.048607,
     "end_time": "2023-07-29T11:39:06.225075",
     "exception": false,
     "start_time": "2023-07-29T11:39:06.176468",
     "status": "completed"
    },
    "tags": []
   },
   "outputs": [
    {
     "data": {
      "text/plain": [
       "False    376430\n",
       "True     173638\n",
       "Name: product2, dtype: int64"
      ]
     },
     "execution_count": 34,
     "metadata": {},
     "output_type": "execute_result"
    }
   ],
   "source": [
    "data['product2'].isnull().value_counts()"
   ]
  },
  {
   "cell_type": "code",
   "execution_count": 35,
   "id": "83f8be7f",
   "metadata": {
    "execution": {
     "iopub.execute_input": "2023-07-29T11:39:06.284629Z",
     "iopub.status.busy": "2023-07-29T11:39:06.283371Z",
     "iopub.status.idle": "2023-07-29T11:39:06.292603Z",
     "shell.execute_reply": "2023-07-29T11:39:06.291554Z"
    },
    "papermill": {
     "duration": 0.041639,
     "end_time": "2023-07-29T11:39:06.295104",
     "exception": false,
     "start_time": "2023-07-29T11:39:06.253465",
     "status": "completed"
    },
    "tags": []
   },
   "outputs": [
    {
     "data": {
      "text/plain": [
       "31.56664266963357"
      ]
     },
     "execution_count": 35,
     "metadata": {},
     "output_type": "execute_result"
    }
   ],
   "source": [
    "#removing the percentage of null data in product2\n",
    "(data['product2'].isnull().sum() / len(data)) * 100"
   ]
  },
  {
   "cell_type": "markdown",
   "id": "8a3ab57a",
   "metadata": {
    "papermill": {
     "duration": 0.0299,
     "end_time": "2023-07-29T11:39:06.353313",
     "exception": false,
     "start_time": "2023-07-29T11:39:06.323413",
     "status": "completed"
    },
    "tags": []
   },
   "source": [
    "31.5% of data is null"
   ]
  },
  {
   "cell_type": "code",
   "execution_count": 36,
   "id": "60606307",
   "metadata": {
    "execution": {
     "iopub.execute_input": "2023-07-29T11:39:06.412217Z",
     "iopub.status.busy": "2023-07-29T11:39:06.411821Z",
     "iopub.status.idle": "2023-07-29T11:39:06.504039Z",
     "shell.execute_reply": "2023-07-29T11:39:06.502858Z"
    },
    "papermill": {
     "duration": 0.124197,
     "end_time": "2023-07-29T11:39:06.506553",
     "exception": false,
     "start_time": "2023-07-29T11:39:06.382356",
     "status": "completed"
    },
    "tags": []
   },
   "outputs": [
    {
     "data": {
      "text/plain": [
       "Age\n",
       "adult      8.0\n",
       "child      4.0\n",
       "old        8.0\n",
       "teenage    8.0\n",
       "Name: product2, dtype: float64"
      ]
     },
     "execution_count": 36,
     "metadata": {},
     "output_type": "execute_result"
    }
   ],
   "source": [
    "s=data.groupby('Age')['product2'].agg(pd.Series.mode)\n",
    "s\n",
    "#as u can see age wise how many no of product buy "
   ]
  },
  {
   "cell_type": "markdown",
   "id": "784d19d7",
   "metadata": {
    "papermill": {
     "duration": 0.028104,
     "end_time": "2023-07-29T11:39:06.563643",
     "exception": false,
     "start_time": "2023-07-29T11:39:06.535539",
     "status": "completed"
    },
    "tags": []
   },
   "source": [
    "Groupby function is very important for data analysis within comparing bifferent colums with different column"
   ]
  },
  {
   "cell_type": "code",
   "execution_count": 37,
   "id": "f2ebcdfe",
   "metadata": {
    "execution": {
     "iopub.execute_input": "2023-07-29T11:39:06.623010Z",
     "iopub.status.busy": "2023-07-29T11:39:06.622045Z",
     "iopub.status.idle": "2023-07-29T11:39:07.007602Z",
     "shell.execute_reply": "2023-07-29T11:39:07.006465Z"
    },
    "papermill": {
     "duration": 0.417975,
     "end_time": "2023-07-29T11:39:07.009983",
     "exception": false,
     "start_time": "2023-07-29T11:39:06.592008",
     "status": "completed"
    },
    "tags": []
   },
   "outputs": [
    {
     "data": {
      "text/plain": [
       "'teenage'"
      ]
     },
     "execution_count": 37,
     "metadata": {},
     "output_type": "execute_result"
    }
   ],
   "source": [
    "#we will be filling null value in product2\n",
    "for key in s.index:\n",
    "    data.loc[(data['Age']==key) & (data['product2'].isnull()), 'product2']=s[key]\n",
    "key"
   ]
  },
  {
   "cell_type": "code",
   "execution_count": 38,
   "id": "4b758732",
   "metadata": {
    "execution": {
     "iopub.execute_input": "2023-07-29T11:39:07.068874Z",
     "iopub.status.busy": "2023-07-29T11:39:07.068448Z",
     "iopub.status.idle": "2023-07-29T11:39:07.077037Z",
     "shell.execute_reply": "2023-07-29T11:39:07.075916Z"
    },
    "papermill": {
     "duration": 0.040917,
     "end_time": "2023-07-29T11:39:07.079403",
     "exception": false,
     "start_time": "2023-07-29T11:39:07.038486",
     "status": "completed"
    },
    "tags": []
   },
   "outputs": [
    {
     "data": {
      "text/plain": [
       "0"
      ]
     },
     "execution_count": 38,
     "metadata": {},
     "output_type": "execute_result"
    }
   ],
   "source": [
    "data['product2'].isnull().sum()"
   ]
  },
  {
   "cell_type": "code",
   "execution_count": 39,
   "id": "7e49535c",
   "metadata": {
    "execution": {
     "iopub.execute_input": "2023-07-29T11:39:07.138963Z",
     "iopub.status.busy": "2023-07-29T11:39:07.138581Z",
     "iopub.status.idle": "2023-07-29T11:39:07.154067Z",
     "shell.execute_reply": "2023-07-29T11:39:07.153086Z"
    },
    "papermill": {
     "duration": 0.047785,
     "end_time": "2023-07-29T11:39:07.156243",
     "exception": false,
     "start_time": "2023-07-29T11:39:07.108458",
     "status": "completed"
    },
    "tags": []
   },
   "outputs": [
    {
     "data": {
      "text/plain": [
       "16.0    32636\n",
       "15.0    28013\n",
       "14.0    18428\n",
       "17.0    16702\n",
       "5.0     16658\n",
       "8.0     12562\n",
       "9.0     11579\n",
       "12.0     9246\n",
       "13.0     5459\n",
       "6.0      4890\n",
       "18.0     4629\n",
       "4.0      1875\n",
       "11.0     1805\n",
       "10.0     1726\n",
       "3.0       613\n",
       "Name: product3, dtype: int64"
      ]
     },
     "execution_count": 39,
     "metadata": {},
     "output_type": "execute_result"
    }
   ],
   "source": [
    "data['product3'].value_counts()\n"
   ]
  },
  {
   "cell_type": "code",
   "execution_count": 40,
   "id": "bc62569c",
   "metadata": {
    "execution": {
     "iopub.execute_input": "2023-07-29T11:39:07.215811Z",
     "iopub.status.busy": "2023-07-29T11:39:07.215363Z",
     "iopub.status.idle": "2023-07-29T11:39:07.224694Z",
     "shell.execute_reply": "2023-07-29T11:39:07.223570Z"
    },
    "papermill": {
     "duration": 0.041827,
     "end_time": "2023-07-29T11:39:07.226945",
     "exception": false,
     "start_time": "2023-07-29T11:39:07.185118",
     "status": "completed"
    },
    "tags": []
   },
   "outputs": [
    {
     "data": {
      "text/plain": [
       "69.67265865311198"
      ]
     },
     "execution_count": 40,
     "metadata": {},
     "output_type": "execute_result"
    }
   ],
   "source": [
    "#removing the percentage of null data in product3\n",
    "(data['product3'].isnull().sum() / len(data)) * 100"
   ]
  },
  {
   "cell_type": "markdown",
   "id": "94a7c801",
   "metadata": {
    "papermill": {
     "duration": 0.028998,
     "end_time": "2023-07-29T11:39:07.285708",
     "exception": false,
     "start_time": "2023-07-29T11:39:07.256710",
     "status": "completed"
    },
    "tags": []
   },
   "source": [
    "product3 contain 69% of null value"
   ]
  },
  {
   "cell_type": "code",
   "execution_count": 41,
   "id": "32d1b1a4",
   "metadata": {
    "execution": {
     "iopub.execute_input": "2023-07-29T11:39:07.345433Z",
     "iopub.status.busy": "2023-07-29T11:39:07.345013Z",
     "iopub.status.idle": "2023-07-29T11:39:07.430221Z",
     "shell.execute_reply": "2023-07-29T11:39:07.429118Z"
    },
    "papermill": {
     "duration": 0.117812,
     "end_time": "2023-07-29T11:39:07.432500",
     "exception": false,
     "start_time": "2023-07-29T11:39:07.314688",
     "status": "completed"
    },
    "tags": []
   },
   "outputs": [
    {
     "data": {
      "text/plain": [
       "Age\n",
       "adult      16.0\n",
       "child      16.0\n",
       "old        16.0\n",
       "teenage    16.0\n",
       "Name: product3, dtype: float64"
      ]
     },
     "execution_count": 41,
     "metadata": {},
     "output_type": "execute_result"
    }
   ],
   "source": [
    "#removing the mode of product 3\n",
    "p=data.groupby('Age')['product3'].agg(pd.Series.mode)\n",
    "p"
   ]
  },
  {
   "cell_type": "code",
   "execution_count": 42,
   "id": "bf7ca5b5",
   "metadata": {
    "execution": {
     "iopub.execute_input": "2023-07-29T11:39:07.493888Z",
     "iopub.status.busy": "2023-07-29T11:39:07.493433Z",
     "iopub.status.idle": "2023-07-29T11:39:07.879583Z",
     "shell.execute_reply": "2023-07-29T11:39:07.878470Z"
    },
    "papermill": {
     "duration": 0.41975,
     "end_time": "2023-07-29T11:39:07.881891",
     "exception": false,
     "start_time": "2023-07-29T11:39:07.462141",
     "status": "completed"
    },
    "tags": []
   },
   "outputs": [
    {
     "data": {
      "text/plain": [
       "'teenage'"
      ]
     },
     "execution_count": 42,
     "metadata": {},
     "output_type": "execute_result"
    }
   ],
   "source": [
    "for key in p.index:\n",
    "    data.loc[(data['Age']==key) & (data['product3'].isnull()), 'product3']=p[key]\n",
    "\n",
    "key\n",
    "#output means null value contain in teenage KEY "
   ]
  },
  {
   "cell_type": "code",
   "execution_count": 43,
   "id": "3e6da34f",
   "metadata": {
    "execution": {
     "iopub.execute_input": "2023-07-29T11:39:07.941375Z",
     "iopub.status.busy": "2023-07-29T11:39:07.940973Z",
     "iopub.status.idle": "2023-07-29T11:39:07.949009Z",
     "shell.execute_reply": "2023-07-29T11:39:07.948019Z"
    },
    "papermill": {
     "duration": 0.040751,
     "end_time": "2023-07-29T11:39:07.951255",
     "exception": false,
     "start_time": "2023-07-29T11:39:07.910504",
     "status": "completed"
    },
    "tags": []
   },
   "outputs": [
    {
     "data": {
      "text/plain": [
       "0"
      ]
     },
     "execution_count": 43,
     "metadata": {},
     "output_type": "execute_result"
    }
   ],
   "source": [
    "data['product3'].isnull().sum()"
   ]
  },
  {
   "cell_type": "markdown",
   "id": "65b504ff",
   "metadata": {
    "papermill": {
     "duration": 0.028881,
     "end_time": "2023-07-29T11:39:08.008962",
     "exception": false,
     "start_time": "2023-07-29T11:39:07.980081",
     "status": "completed"
    },
    "tags": []
   },
   "source": [
    "AFTER CLEANING CHECKING DATA"
   ]
  },
  {
   "cell_type": "code",
   "execution_count": 44,
   "id": "b0a0cecd",
   "metadata": {
    "execution": {
     "iopub.execute_input": "2023-07-29T11:39:08.069543Z",
     "iopub.status.busy": "2023-07-29T11:39:08.069109Z",
     "iopub.status.idle": "2023-07-29T11:39:08.613393Z",
     "shell.execute_reply": "2023-07-29T11:39:08.612238Z"
    },
    "papermill": {
     "duration": 0.577435,
     "end_time": "2023-07-29T11:39:08.615797",
     "exception": false,
     "start_time": "2023-07-29T11:39:08.038362",
     "status": "completed"
    },
    "tags": []
   },
   "outputs": [
    {
     "name": "stdout",
     "output_type": "stream",
     "text": [
      "<class 'pandas.core.frame.DataFrame'>\n",
      "RangeIndex: 550068 entries, 0 to 550067\n",
      "Data columns (total 11 columns):\n",
      " #   Column         Non-Null Count   Dtype  \n",
      "---  ------         --------------   -----  \n",
      " 0   UserID         550068 non-null  int64  \n",
      " 1   Gender         550068 non-null  object \n",
      " 2   Age            550068 non-null  object \n",
      " 3   Occupation     550068 non-null  int64  \n",
      " 4   City_Category  550068 non-null  object \n",
      " 5   city           550068 non-null  int64  \n",
      " 6   maritial       550068 non-null  int64  \n",
      " 7   product1       550068 non-null  int64  \n",
      " 8   product2       550068 non-null  float64\n",
      " 9   product3       550068 non-null  float64\n",
      " 10  Purchase       550068 non-null  int64  \n",
      "dtypes: float64(2), int64(6), object(3)\n",
      "memory usage: 46.2+ MB\n"
     ]
    }
   ],
   "source": [
    "data.info()"
   ]
  },
  {
   "cell_type": "code",
   "execution_count": 45,
   "id": "9e1dc329",
   "metadata": {
    "execution": {
     "iopub.execute_input": "2023-07-29T11:39:08.676439Z",
     "iopub.status.busy": "2023-07-29T11:39:08.675731Z",
     "iopub.status.idle": "2023-07-29T11:39:09.216496Z",
     "shell.execute_reply": "2023-07-29T11:39:09.215234Z"
    },
    "papermill": {
     "duration": 0.574055,
     "end_time": "2023-07-29T11:39:09.219086",
     "exception": false,
     "start_time": "2023-07-29T11:39:08.645031",
     "status": "completed"
    },
    "tags": []
   },
   "outputs": [
    {
     "data": {
      "text/plain": [
       "UserID           0\n",
       "Gender           0\n",
       "Age              0\n",
       "Occupation       0\n",
       "City_Category    0\n",
       "city             0\n",
       "maritial         0\n",
       "product1         0\n",
       "product2         0\n",
       "product3         0\n",
       "Purchase         0\n",
       "dtype: int64"
      ]
     },
     "execution_count": 45,
     "metadata": {},
     "output_type": "execute_result"
    }
   ],
   "source": [
    "data.isnull().sum()"
   ]
  },
  {
   "cell_type": "markdown",
   "id": "a8d9116f",
   "metadata": {
    "papermill": {
     "duration": 0.029042,
     "end_time": "2023-07-29T11:39:09.277741",
     "exception": false,
     "start_time": "2023-07-29T11:39:09.248699",
     "status": "completed"
    },
    "tags": []
   },
   "source": [
    "No null value present now data is clean and now do analysis"
   ]
  },
  {
   "cell_type": "code",
   "execution_count": 46,
   "id": "783c1c00",
   "metadata": {
    "execution": {
     "iopub.execute_input": "2023-07-29T11:39:09.339397Z",
     "iopub.status.busy": "2023-07-29T11:39:09.338965Z",
     "iopub.status.idle": "2023-07-29T11:39:18.613071Z",
     "shell.execute_reply": "2023-07-29T11:39:18.611899Z"
    },
    "papermill": {
     "duration": 9.308386,
     "end_time": "2023-07-29T11:39:18.615941",
     "exception": false,
     "start_time": "2023-07-29T11:39:09.307555",
     "status": "completed"
    },
    "tags": []
   },
   "outputs": [
    {
     "data": {
      "text/plain": [
       "<Axes: >"
      ]
     },
     "execution_count": 46,
     "metadata": {},
     "output_type": "execute_result"
    },
    {
     "data": {
      "image/png": "[encoded data removed]",
      "text/plain": [
       "<Figure size 640x480 with 2 Axes>"
      ]
     },
     "metadata": {},
     "output_type": "display_data"
    }
   ],
   "source": [
    "sns.heatmap(data.isnull())"
   ]
  },
  {
   "cell_type": "markdown",
   "id": "b4844e37",
   "metadata": {
    "papermill": {
     "duration": 0.030423,
     "end_time": "2023-07-29T11:39:18.678081",
     "exception": false,
     "start_time": "2023-07-29T11:39:18.647658",
     "status": "completed"
    },
    "tags": []
   },
   "source": [
    "# DATA VISUALIZATION"
   ]
  },
  {
   "cell_type": "markdown",
   "id": "4bfa819c",
   "metadata": {
    "papermill": {
     "duration": 0.030248,
     "end_time": "2023-07-29T11:39:18.739153",
     "exception": false,
     "start_time": "2023-07-29T11:39:18.708905",
     "status": "completed"
    },
    "tags": []
   },
   "source": [
    "For data visuliztion we are using Seaborn and matplotlib"
   ]
  },
  {
   "cell_type": "code",
   "execution_count": 47,
   "id": "a17064ee",
   "metadata": {
    "execution": {
     "iopub.execute_input": "2023-07-29T11:39:18.802253Z",
     "iopub.status.busy": "2023-07-29T11:39:18.801827Z",
     "iopub.status.idle": "2023-07-29T11:39:27.279876Z",
     "shell.execute_reply": "2023-07-29T11:39:27.278674Z"
    },
    "papermill": {
     "duration": 8.512895,
     "end_time": "2023-07-29T11:39:27.282540",
     "exception": false,
     "start_time": "2023-07-29T11:39:18.769645",
     "status": "completed"
    },
    "tags": []
   },
   "outputs": [
    {
     "data": {
      "text/plain": [
       "<Axes: title={'center': 'age vs purchase'}, xlabel='Age', ylabel='Purchase'>"
      ]
     },
     "execution_count": 47,
     "metadata": {},
     "output_type": "execute_result"
    },
    {
     "data": {
      "image/png": "[encoded data removed]",
      "text/plain": [
       "<Figure size 480x480 with 1 Axes>"
      ]
     },
     "metadata": {},
     "output_type": "display_data"
    }
   ],
   "source": [
    "# Age vs purshased\n",
    "plt.figure(figsize=(6,6),dpi=80)\n",
    "plt.title('age vs purchase')\n",
    "sns.barplot(x='Age',y='Purchase',data=data,palette='Set1')\n"
   ]
  },
  {
   "cell_type": "markdown",
   "id": "4dfc0135",
   "metadata": {
    "papermill": {
     "duration": 0.030927,
     "end_time": "2023-07-29T11:39:27.345436",
     "exception": false,
     "start_time": "2023-07-29T11:39:27.314509",
     "status": "completed"
    },
    "tags": []
   },
   "source": [
    "Here we understood that old age has higest purchase and chil has lower purchase"
   ]
  },
  {
   "cell_type": "code",
   "execution_count": 48,
   "id": "87e40af4",
   "metadata": {
    "execution": {
     "iopub.execute_input": "2023-07-29T11:39:27.410476Z",
     "iopub.status.busy": "2023-07-29T11:39:27.410034Z",
     "iopub.status.idle": "2023-07-29T11:39:28.183692Z",
     "shell.execute_reply": "2023-07-29T11:39:28.182620Z"
    },
    "papermill": {
     "duration": 0.809251,
     "end_time": "2023-07-29T11:39:28.186132",
     "exception": false,
     "start_time": "2023-07-29T11:39:27.376881",
     "status": "completed"
    },
    "tags": []
   },
   "outputs": [
    {
     "data": {
      "text/plain": [
       "<Axes: title={'center': 'Gander'}, xlabel='Gender', ylabel='count'>"
      ]
     },
     "execution_count": 48,
     "metadata": {},
     "output_type": "execute_result"
    },
    {
     "data": {
      "image/png": "[encoded data removed]",
      "text/plain": [
       "<Figure size 960x960 with 1 Axes>"
      ]
     },
     "metadata": {},
     "output_type": "display_data"
    }
   ],
   "source": [
    "plt.figure(figsize=(12,12),dpi=80)\n",
    "plt.subplot(4,2,1) #this 4= length, 2 = breadth, and 1 is the posiiton of graph\n",
    "plt.title('Gander')\n",
    "sns.countplot(x='Gender',data=data,palette='muted')"
   ]
  },
  {
   "cell_type": "code",
   "execution_count": 49,
   "id": "44ed895c",
   "metadata": {
    "execution": {
     "iopub.execute_input": "2023-07-29T11:39:28.251872Z",
     "iopub.status.busy": "2023-07-29T11:39:28.251491Z",
     "iopub.status.idle": "2023-07-29T11:39:34.479032Z",
     "shell.execute_reply": "2023-07-29T11:39:34.477725Z"
    },
    "papermill": {
     "duration": 6.264029,
     "end_time": "2023-07-29T11:39:34.482565",
     "exception": false,
     "start_time": "2023-07-29T11:39:28.218536",
     "status": "completed"
    },
    "tags": []
   },
   "outputs": [
    {
     "data": {
      "image/png": "[encoded data removed]",
      "text/plain": [
       "<Figure size 960x960 with 8 Axes>"
      ]
     },
     "metadata": {},
     "output_type": "display_data"
    }
   ],
   "source": [
    "# Visualizing individual column \n",
    "plt.figure(figsize=(12,12),dpi=80)\n",
    "plt.subplot(4,2,1)\n",
    "plt.title('Gender')\n",
    "sns.countplot(x='Gender',data=data,palette='muted')\n",
    "\n",
    "plt.subplot(4,2,2)\n",
    "plt.title('Age')\n",
    "sns.countplot(x='Age',data=data,palette='rocket')\n",
    "\n",
    "plt.subplot(4,2,3)\n",
    "plt.title('Occupation')\n",
    "sns.countplot(x='Occupation',data=data,palette='colorblind')\n",
    "\n",
    "plt.subplot(4,2,4)\n",
    "plt.title('City category')\n",
    "sns.countplot(x='City_Category',data=data,palette='crest')\n",
    "\n",
    "plt.subplot(4,2,5)\n",
    "plt.title('City')\n",
    "sns.countplot(x='city',data=data,palette='coolwarm')\n",
    "\n",
    "plt.subplot(4,2,6)\n",
    "plt.title('Maritial')\n",
    "sns.countplot(x='maritial',data=data,palette='hot')\n",
    "\n",
    "ax=plt.subplot(4,2,7)\n",
    "plt.title('Purchase')\n",
    "ax.set_ylim(0,0.00015)\n",
    "ax.set_xlim(0,26000)\n",
    "sns.kdeplot(x='Purchase', data=data) #this is waves type plot or line graph\n",
    "\n",
    "plt.subplot(4,2,8)\n",
    "plt.title('Product1')\n",
    "sns.countplot(x='product1',data=data,palette='viridis')\n",
    "\n",
    "plt.tight_layout() #this is given for adjustment of graph so no overlap done\n",
    "plt.show()  "
   ]
  },
  {
   "cell_type": "markdown",
   "id": "f81c296c",
   "metadata": {
    "papermill": {
     "duration": 0.032886,
     "end_time": "2023-07-29T11:39:34.549659",
     "exception": false,
     "start_time": "2023-07-29T11:39:34.516773",
     "status": "completed"
    },
    "tags": []
   },
   "source": [
    "Gender:-\n",
    "The graph shows that count of male is more than female.\n",
    "Male count=4000\n",
    "Female count=1500 \n",
    "\n",
    "Age:-\n",
    "The graph shows that pepople visiting the store are maximum adults.\n",
    "Adult age ranges from 26-50\n",
    "Where as least visited are children.   \n",
    "\n",
    "Maritial:-\n",
    "People visting the store are married and has higher count as compared to singles.\n",
    "Married count = 3,00,000\n",
    "Single count=2,00,000\n",
    "\n",
    "Purchase:-\n",
    "Purchase rate is higher between 5000 - 10,000\n",
    "Purchase rate goes upto range 25,0000   \n",
    "\n",
    "City category:-\n",
    "People visiting the store maximum belong to city category B.\n",
    "Least visiting people visiting the store belong to category A.  \n",
    "\n",
    "City:-\n",
    "Maximum people visiting the store belong to 1.\n",
    "Least visited is city 0.\n",
    "By this we can conclude that the store is located in city 1.\n",
    "\n",
    "occupation-\n",
    "as u can see who has 4 occupation at a time are maximum   \n",
    "and low occupation who has 8 occupation at a time   \n",
    "\n",
    "product1- \n",
    "as u can see 5 has maximun sales\n",
    "and 27 has minmum sales\n"
   ]
  },
  {
   "cell_type": "code",
   "execution_count": 50,
   "id": "484e82cd",
   "metadata": {
    "execution": {
     "iopub.execute_input": "2023-07-29T11:39:34.618930Z",
     "iopub.status.busy": "2023-07-29T11:39:34.618534Z",
     "iopub.status.idle": "2023-07-29T11:40:07.144168Z",
     "shell.execute_reply": "2023-07-29T11:40:07.142906Z"
    },
    "papermill": {
     "duration": 32.596561,
     "end_time": "2023-07-29T11:40:07.179642",
     "exception": false,
     "start_time": "2023-07-29T11:39:34.583081",
     "status": "completed"
    },
    "tags": []
   },
   "outputs": [
    {
     "data": {
      "image/png": "[encoded data removed]",
      "text/plain": [
       "<Figure size 640x640 with 4 Axes>"
      ]
     },
     "metadata": {},
     "output_type": "display_data"
    }
   ],
   "source": [
    "plt.figure(figsize=(8,8),dpi=80)\n",
    "plt.subplot(2,2,1)\n",
    "plt.title('gender vs purchase')\n",
    "sns.barplot(x='Gender',y='Purchase',data=data,palette='autumn')\n",
    "\n",
    "plt.subplot(2,2,2)                                                #size\n",
    "plt.title('maritial vs purchase')                                 #title\n",
    "sns.barplot(x='maritial',y='Purchase',data=data,hue='Gender',palette='viridis')#type of graph and axis\n",
    " \n",
    "plt.subplot(2,2,3)   #graph always plot using sns means seaborn library\n",
    "plt.title('city vs purchase') \n",
    "sns.barplot(x='city', y='Purchase',data=data,hue='Gender',palette='Purples')\n",
    "\n",
    "plt.subplot(2,2,4)  #palette is for color \n",
    "plt.title('city vs purchase') #(hue= 'Gender') means comparision on basis of gender as u can see 2 bar plot at one things\n",
    "sns.barplot(x='City_Category', y='Purchase',data=data,hue='Gender',palette='Purples')\n",
    "\n",
    "plt.tight_layout() #this line is for to avoid overlaping of graph\n",
    "plt.show()\n",
    "\n",
    "\n"
   ]
  },
  {
   "cell_type": "markdown",
   "id": "149d0b04",
   "metadata": {
    "papermill": {
     "duration": 0.034501,
     "end_time": "2023-07-29T11:40:07.247556",
     "exception": false,
     "start_time": "2023-07-29T11:40:07.213055",
     "status": "completed"
    },
    "tags": []
   },
   "source": [
    "By these 3 ploted graph we conclude that male has higher purchase rate than female   \n",
    "area , city_category , gender wise male has high purchase    \n",
    "male > female(purchase)"
   ]
  },
  {
   "cell_type": "code",
   "execution_count": 51,
   "id": "e8a9fe33",
   "metadata": {
    "execution": {
     "iopub.execute_input": "2023-07-29T11:40:07.317276Z",
     "iopub.status.busy": "2023-07-29T11:40:07.316845Z",
     "iopub.status.idle": "2023-07-29T11:40:15.316964Z",
     "shell.execute_reply": "2023-07-29T11:40:15.315970Z"
    },
    "papermill": {
     "duration": 8.037488,
     "end_time": "2023-07-29T11:40:15.319481",
     "exception": false,
     "start_time": "2023-07-29T11:40:07.281993",
     "status": "completed"
    },
    "tags": []
   },
   "outputs": [
    {
     "data": {
      "text/plain": [
       "<Axes: title={'center': 'matertial status vs purchase'}, xlabel='maritial', ylabel='Purchase'>"
      ]
     },
     "execution_count": 51,
     "metadata": {},
     "output_type": "execute_result"
    },
    {
     "data": {
      "image/png": "[encoded data removed]",
      "text/plain": [
       "<Figure size 640x640 with 1 Axes>"
      ]
     },
     "metadata": {},
     "output_type": "display_data"
    }
   ],
   "source": [
    "#plotting purchase vs product1\n",
    "plt.figure(figsize=(8,8),dpi=80)\n",
    "plt.title('matertial status vs purchase')\n",
    "sns.barplot(x='maritial', y='Purchase',data=data,palette='dark',hue=\"Age\")"
   ]
  },
  {
   "cell_type": "markdown",
   "id": "3c48b669",
   "metadata": {
    "papermill": {
     "duration": 0.034302,
     "end_time": "2023-07-29T11:40:15.387304",
     "exception": false,
     "start_time": "2023-07-29T11:40:15.353002",
     "status": "completed"
    },
    "tags": []
   },
   "source": [
    "This graph we come to know that purchase rate is more in singles rather than in married.   \n",
    "In singles purchase rate of old age is lower where as in married purchase rate of old is higher. "
   ]
  },
  {
   "cell_type": "code",
   "execution_count": 52,
   "id": "0fc9d1d9",
   "metadata": {
    "execution": {
     "iopub.execute_input": "2023-07-29T11:40:15.456832Z",
     "iopub.status.busy": "2023-07-29T11:40:15.455785Z",
     "iopub.status.idle": "2023-07-29T11:40:15.739031Z",
     "shell.execute_reply": "2023-07-29T11:40:15.737515Z"
    },
    "papermill": {
     "duration": 0.321907,
     "end_time": "2023-07-29T11:40:15.742810",
     "exception": false,
     "start_time": "2023-07-29T11:40:15.420903",
     "status": "completed"
    },
    "tags": []
   },
   "outputs": [
    {
     "data": {
      "text/html": [
       "<div>\n",
       "<style scoped>\n",
       "    .dataframe tbody tr th:only-of-type {\n",
       "        vertical-align: middle;\n",
       "    }\n",
       "\n",
       "    .dataframe tbody tr th {\n",
       "        vertical-align: top;\n",
       "    }\n",
       "\n",
       "    .dataframe thead th {\n",
       "        text-align: right;\n",
       "    }\n",
       "</style>\n",
       "<table border=\"1\" class=\"dataframe\">\n",
       "  <thead>\n",
       "    <tr style=\"text-align: right;\">\n",
       "      <th></th>\n",
       "      <th>Age</th>\n",
       "    </tr>\n",
       "    <tr>\n",
       "      <th>Age</th>\n",
       "      <th></th>\n",
       "    </tr>\n",
       "  </thead>\n",
       "  <tbody>\n",
       "    <tr>\n",
       "      <th>adult</th>\n",
       "      <td>375301</td>\n",
       "    </tr>\n",
       "    <tr>\n",
       "      <th>child</th>\n",
       "      <td>15102</td>\n",
       "    </tr>\n",
       "    <tr>\n",
       "      <th>old</th>\n",
       "      <td>60005</td>\n",
       "    </tr>\n",
       "    <tr>\n",
       "      <th>teenage</th>\n",
       "      <td>99660</td>\n",
       "    </tr>\n",
       "  </tbody>\n",
       "</table>\n",
       "</div>"
      ],
      "text/plain": [
       "            Age\n",
       "Age            \n",
       "adult    375301\n",
       "child     15102\n",
       "old       60005\n",
       "teenage   99660"
      ]
     },
     "metadata": {},
     "output_type": "display_data"
    },
    {
     "data": {
      "image/png": "[encoded data removed]",
      "text/plain": [
       "<Figure size 640x480 with 1 Axes>"
      ]
     },
     "metadata": {},
     "output_type": "display_data"
    }
   ],
   "source": [
    "#Age Count\n",
    "a=data.groupby('Age')['Age'].agg('count')\n",
    "display(a.to_frame())\n",
    "plt.title('Age count')\n",
    "palette_color=sns.color_palette('bright')\n",
    "plt.pie(a,colors=palette_color,labels=a.index,radius=1.2,autopct='%.0f%%')\n",
    "plt.show()\n",
    "#autopct='%.0f%%') this means the % of label to display whole number"
   ]
  },
  {
   "cell_type": "markdown",
   "id": "9ed0ac2b",
   "metadata": {
    "papermill": {
     "duration": 0.03417,
     "end_time": "2023-07-29T11:40:15.837030",
     "exception": false,
     "start_time": "2023-07-29T11:40:15.802860",
     "status": "completed"
    },
    "tags": []
   },
   "source": [
    "Maximum people visiting the store are from adult category.    \n",
    "Least people visiting belong to child category"
   ]
  },
  {
   "cell_type": "code",
   "execution_count": 53,
   "id": "c1534ebd",
   "metadata": {
    "execution": {
     "iopub.execute_input": "2023-07-29T11:40:15.907799Z",
     "iopub.status.busy": "2023-07-29T11:40:15.907063Z",
     "iopub.status.idle": "2023-07-29T11:40:16.147746Z",
     "shell.execute_reply": "2023-07-29T11:40:16.146275Z"
    },
    "papermill": {
     "duration": 0.280309,
     "end_time": "2023-07-29T11:40:16.151665",
     "exception": false,
     "start_time": "2023-07-29T11:40:15.871356",
     "status": "completed"
    },
    "tags": []
   },
   "outputs": [
    {
     "data": {
      "text/html": [
       "<div>\n",
       "<style scoped>\n",
       "    .dataframe tbody tr th:only-of-type {\n",
       "        vertical-align: middle;\n",
       "    }\n",
       "\n",
       "    .dataframe tbody tr th {\n",
       "        vertical-align: top;\n",
       "    }\n",
       "\n",
       "    .dataframe thead th {\n",
       "        text-align: right;\n",
       "    }\n",
       "</style>\n",
       "<table border=\"1\" class=\"dataframe\">\n",
       "  <thead>\n",
       "    <tr style=\"text-align: right;\">\n",
       "      <th></th>\n",
       "      <th>City_Category</th>\n",
       "    </tr>\n",
       "    <tr>\n",
       "      <th>City_Category</th>\n",
       "      <th></th>\n",
       "    </tr>\n",
       "  </thead>\n",
       "  <tbody>\n",
       "    <tr>\n",
       "      <th>A</th>\n",
       "      <td>147720</td>\n",
       "    </tr>\n",
       "    <tr>\n",
       "      <th>B</th>\n",
       "      <td>231173</td>\n",
       "    </tr>\n",
       "    <tr>\n",
       "      <th>C</th>\n",
       "      <td>171175</td>\n",
       "    </tr>\n",
       "  </tbody>\n",
       "</table>\n",
       "</div>"
      ],
      "text/plain": [
       "               City_Category\n",
       "City_Category               \n",
       "A                     147720\n",
       "B                     231173\n",
       "C                     171175"
      ]
     },
     "metadata": {},
     "output_type": "display_data"
    },
    {
     "data": {
      "image/png": "[encoded data removed]",
      "text/plain": [
       "<Figure size 450x450 with 1 Axes>"
      ]
     },
     "metadata": {},
     "output_type": "display_data"
    }
   ],
   "source": [
    "#city category\n",
    "plt.figure(figsize=(5,5),dpi=90)\n",
    "plt.title('City category')\n",
    "palette_color=sns.color_palette('bright')\n",
    "b=data.groupby('City_Category')['City_Category'].agg('count')\n",
    "display(b.to_frame())\n",
    "plt.pie(b,labels=b.index,autopct='%.0f%%')\n",
    "plt.show()"
   ]
  },
  {
   "cell_type": "markdown",
   "id": "e18aee0b",
   "metadata": {
    "papermill": {
     "duration": 0.034114,
     "end_time": "2023-07-29T11:40:16.255116",
     "exception": false,
     "start_time": "2023-07-29T11:40:16.221002",
     "status": "completed"
    },
    "tags": []
   },
   "source": [
    "People visting the store belong to city category B.    \n",
    "Least visiting belong to city A."
   ]
  },
  {
   "cell_type": "code",
   "execution_count": 54,
   "id": "2de030e5",
   "metadata": {
    "execution": {
     "iopub.execute_input": "2023-07-29T11:40:16.325158Z",
     "iopub.status.busy": "2023-07-29T11:40:16.324423Z",
     "iopub.status.idle": "2023-07-29T11:40:40.997139Z",
     "shell.execute_reply": "2023-07-29T11:40:40.996029Z"
    },
    "papermill": {
     "duration": 24.710393,
     "end_time": "2023-07-29T11:40:40.999646",
     "exception": false,
     "start_time": "2023-07-29T11:40:16.289253",
     "status": "completed"
    },
    "tags": []
   },
   "outputs": [
    {
     "data": {
      "image/png": "[encoded data removed]",
      "text/plain": [
       "<Figure size 800x400 with 3 Axes>"
      ]
     },
     "metadata": {},
     "output_type": "display_data"
    }
   ],
   "source": [
    "#Plotting product vs purchase rate\n",
    "plt.figure(figsize=(10,5),dpi=80)\n",
    "plt.subplot(2,2,1)\n",
    "plt.title('product vs purchase')\n",
    "sns.barplot(x='product1',y='Purchase',data=data)\n",
    "plt.xticks(rotation=90)  #Rotate command is used to rotate label which given below x axis or writen word\n",
    "\n",
    "plt.subplot(2,2,2)\n",
    "plt.title('product2 vs purchase')\n",
    "sns.barplot(x='product2', y='Purchase', data= data)\n",
    "plt.xticks(rotation=90)\n",
    "\n",
    "plt.subplot(2,2,3)\n",
    "plt.title('product3 vs purchase')\n",
    "sns.barplot(x='product3',y='Purchase',data=data)\n",
    "plt.xticks(rotation=90)\n",
    "\n",
    "\n",
    "plt.tight_layout()\n",
    "plt.show()\n"
   ]
  },
  {
   "cell_type": "markdown",
   "id": "1cc0e0dc",
   "metadata": {
    "papermill": {
     "duration": 0.036927,
     "end_time": "2023-07-29T11:40:41.073221",
     "exception": false,
     "start_time": "2023-07-29T11:40:41.036294",
     "status": "completed"
    },
    "tags": []
   },
   "source": [
    "In this graph of product1 and product2 the 10th product is more purchased.    \n",
    "In product3 3rd product is more purchased compared to all."
   ]
  },
  {
   "cell_type": "code",
   "execution_count": 55,
   "id": "f59b6831",
   "metadata": {
    "execution": {
     "iopub.execute_input": "2023-07-29T11:40:41.147251Z",
     "iopub.status.busy": "2023-07-29T11:40:41.146808Z",
     "iopub.status.idle": "2023-07-29T11:40:42.077568Z",
     "shell.execute_reply": "2023-07-29T11:40:42.076399Z"
    },
    "papermill": {
     "duration": 0.971128,
     "end_time": "2023-07-29T11:40:42.080281",
     "exception": false,
     "start_time": "2023-07-29T11:40:41.109153",
     "status": "completed"
    },
    "tags": []
   },
   "outputs": [
    {
     "data": {
      "image/png": "[encoded data removed]",
      "text/plain": [
       "<Figure size 700x350 with 2 Axes>"
      ]
     },
     "metadata": {},
     "output_type": "display_data"
    }
   ],
   "source": [
    "plt.figure(figsize=(10,5),dpi=70)\n",
    "plt.subplot(1,2,1)\n",
    "um=data[data['maritial']==0].value_counts('Purchase') #um=unmarried is a variable\n",
    "plt.title('Unmarried')\n",
    "sns.kdeplot(x='Purchase',data=um)\n",
    "\n",
    "plt.subplot(1,2,2)\n",
    "m=data[data['maritial']==1].value_counts('Purchase')\n",
    "plt.title('married')\n",
    "sns.kdeplot(x='Purchase',data=m) #kdeplot used in seaborn it a type of graph like standard devation or wave type\n",
    "\n",
    "plt.tight_layout()\n",
    "plt.show()"
   ]
  },
  {
   "cell_type": "markdown",
   "id": "8402117b",
   "metadata": {
    "papermill": {
     "duration": 0.036487,
     "end_time": "2023-07-29T11:40:42.152994",
     "exception": false,
     "start_time": "2023-07-29T11:40:42.116507",
     "status": "completed"
    },
    "tags": []
   },
   "source": [
    "Purchase distribution of both 'Married' and 'UnMarried' customers are quitely same."
   ]
  },
  {
   "cell_type": "code",
   "execution_count": 56,
   "id": "f8f510dc",
   "metadata": {
    "execution": {
     "iopub.execute_input": "2023-07-29T11:40:42.229438Z",
     "iopub.status.busy": "2023-07-29T11:40:42.228027Z",
     "iopub.status.idle": "2023-07-29T11:40:43.346091Z",
     "shell.execute_reply": "2023-07-29T11:40:43.344854Z"
    },
    "papermill": {
     "duration": 1.159805,
     "end_time": "2023-07-29T11:40:43.349236",
     "exception": false,
     "start_time": "2023-07-29T11:40:42.189431",
     "status": "completed"
    },
    "tags": []
   },
   "outputs": [
    {
     "data": {
      "image/png": "[encoded data removed]",
      "text/plain": [
       "<Figure size 700x350 with 2 Axes>"
      ]
     },
     "metadata": {},
     "output_type": "display_data"
    }
   ],
   "source": [
    "plt.figure(figsize=(10,5),dpi=70)\n",
    "plt.subplot(1,2,1)\n",
    "f=data[data['Gender']=='F'].value_counts('Purchase')\n",
    "plt.title('Female')\n",
    "sns.kdeplot(x='Purchase',data=f)\n",
    "\n",
    "plt.subplot(1,2,2)\n",
    "ma=data[data['Gender']=='M'].value_counts('Purchase')\n",
    "plt.title('Male')\n",
    "sns.kdeplot(x='Purchase',data=ma)\n",
    "\n",
    "plt.tight_layout()\n",
    "plt.show()\n",
    "\n"
   ]
  },
  {
   "cell_type": "markdown",
   "id": "d486eda4",
   "metadata": {
    "papermill": {
     "duration": 0.046039,
     "end_time": "2023-07-29T11:40:43.438546",
     "exception": false,
     "start_time": "2023-07-29T11:40:43.392507",
     "status": "completed"
    },
    "tags": []
   },
   "source": [
    "Purchase distribution of both 'Male' and 'Female' customers are quitely same"
   ]
  },
  {
   "cell_type": "markdown",
   "id": "37bfde8f",
   "metadata": {
    "papermill": {
     "duration": 0.036813,
     "end_time": "2023-07-29T11:40:43.513785",
     "exception": false,
     "start_time": "2023-07-29T11:40:43.476972",
     "status": "completed"
    },
    "tags": []
   },
   "source": [
    "# Conclusion"
   ]
  },
  {
   "cell_type": "markdown",
   "id": "7d04d00e",
   "metadata": {
    "papermill": {
     "duration": 0.036893,
     "end_time": "2023-07-29T11:40:43.587934",
     "exception": false,
     "start_time": "2023-07-29T11:40:43.551041",
     "status": "completed"
    },
    "tags": []
   },
   "source": [
    "Both male and female has same sales \n"
   ]
  },
  {
   "cell_type": "markdown",
   "id": "98f2d19b",
   "metadata": {
    "papermill": {
     "duration": 0.036401,
     "end_time": "2023-07-29T11:40:43.661572",
     "exception": false,
     "start_time": "2023-07-29T11:40:43.625171",
     "status": "completed"
    },
    "tags": []
   },
   "source": [
    "# Building Model"
   ]
  },
  {
   "cell_type": "markdown",
   "id": "8051363d",
   "metadata": {
    "papermill": {
     "duration": 0.036282,
     "end_time": "2023-07-29T11:40:43.734673",
     "exception": false,
     "start_time": "2023-07-29T11:40:43.698391",
     "status": "completed"
    },
    "tags": []
   },
   "source": [
    "build a model to predict the purchase amount of customer against various products which will help them to create personalized offer for customers against different products. By seeing this EDA we can fulfill this requirements."
   ]
  },
  {
   "cell_type": "markdown",
   "id": "806b020c",
   "metadata": {
    "papermill": {
     "duration": 0.038096,
     "end_time": "2023-07-29T11:40:43.809489",
     "exception": false,
     "start_time": "2023-07-29T11:40:43.771393",
     "status": "completed"
    },
    "tags": []
   },
   "source": [
    "# THE END"
   ]
  }
 ],
 "metadata": {
  "kernelspec": {
   "display_name": "Python 3",
   "language": "python",
   "name": "python3"
  },
  "language_info": {
   "codemirror_mode": {
    "name": "ipython",
    "version": 3
   },
   "file_extension": ".py",
   "mimetype": "text/x-python",
   "name": "python",
   "nbconvert_exporter": "python",
   "pygments_lexer": "ipython3",
   "version": "3.12.0"
  },
  "papermill": {
   "default_parameters": {},
   "duration": 130.225244,
   "end_time": "2023-07-29T11:40:44.969133",
   "environment_variables": {},
   "exception": null,
   "input_path": "__notebook__.ipynb",
   "output_path": "__notebook__.ipynb",
   "parameters": {},
   "start_time": "2023-07-29T11:38:34.743889",
   "version": "2.4.0"
  }
 },
 "nbformat": 4,
 "nbformat_minor": 5
}
